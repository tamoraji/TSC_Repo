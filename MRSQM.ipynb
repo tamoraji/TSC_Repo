{
 "cells": [
  {
   "cell_type": "code",
   "execution_count": null,
   "metadata": {},
   "outputs": [],
   "source": [
    "!echo $PYTHONPATH"
   ]
  },
  {
   "cell_type": "code",
   "execution_count": 1,
   "metadata": {},
   "outputs": [
    {
     "ename": "NameError",
     "evalue": "name 'sys' is not defined",
     "output_type": "error",
     "traceback": [
      "\u001b[0;31m---------------------------------------------------------------------------\u001b[0m",
      "\u001b[0;31mNameError\u001b[0m                                 Traceback (most recent call last)",
      "\u001b[0;32m/tmp/ipykernel_478761/1323293796.py\u001b[0m in \u001b[0;36m<module>\u001b[0;34m\u001b[0m\n\u001b[0;32m----> 1\u001b[0;31m \u001b[0msys\u001b[0m\u001b[0;34m.\u001b[0m\u001b[0mpath\u001b[0m\u001b[0;34m.\u001b[0m\u001b[0mremove\u001b[0m\u001b[0;34m(\u001b[0m\u001b[0;34m'/home/ma00048/Moji/mrsqm/'\u001b[0m\u001b[0;34m)\u001b[0m\u001b[0;34m\u001b[0m\u001b[0;34m\u001b[0m\u001b[0m\n\u001b[0m",
      "\u001b[0;31mNameError\u001b[0m: name 'sys' is not defined"
     ]
    }
   ],
   "source": [
    "sys.path.remove('/home/ma00048/Moji/mrsqm/')"
   ]
  },
  {
   "cell_type": "code",
   "execution_count": 4,
   "metadata": {},
   "outputs": [
    {
     "name": "stdout",
     "output_type": "stream",
     "text": [
      "Defaulting to user installation because normal site-packages is not writeable\n",
      "Collecting mrsqm\n",
      "  Using cached mrsqm-0.0.1.tar.gz (137 kB)\n",
      "  Installing build dependencies ... \u001b[?25ldone\n",
      "\u001b[?25h  Getting requirements to build wheel ... \u001b[?25ldone\n",
      "\u001b[?25h  Preparing metadata (pyproject.toml) ... \u001b[?25ldone\n",
      "\u001b[?25hBuilding wheels for collected packages: mrsqm\n",
      "  Building wheel for mrsqm (pyproject.toml) ... \u001b[?25lerror\n",
      "  \u001b[1;31merror\u001b[0m: \u001b[1msubprocess-exited-with-error\u001b[0m\n",
      "  \n",
      "  \u001b[31m×\u001b[0m \u001b[32mBuilding wheel for mrsqm \u001b[0m\u001b[1;32m(\u001b[0m\u001b[32mpyproject.toml\u001b[0m\u001b[1;32m)\u001b[0m did not run successfully.\n",
      "  \u001b[31m│\u001b[0m exit code: \u001b[1;36m1\u001b[0m\n",
      "  \u001b[31m╰─>\u001b[0m \u001b[31m[37 lines of output]\u001b[0m\n",
      "  \u001b[31m   \u001b[0m running bdist_wheel\n",
      "  \u001b[31m   \u001b[0m running build\n",
      "  \u001b[31m   \u001b[0m running build_py\n",
      "  \u001b[31m   \u001b[0m creating build\n",
      "  \u001b[31m   \u001b[0m creating build/lib.linux-x86_64-3.10\n",
      "  \u001b[31m   \u001b[0m creating build/lib.linux-x86_64-3.10/mrsqm\n",
      "  \u001b[31m   \u001b[0m copying src/mrsqm/__init__.py -> build/lib.linux-x86_64-3.10/mrsqm\n",
      "  \u001b[31m   \u001b[0m running build_ext\n",
      "  \u001b[31m   \u001b[0m creating build/temp.linux-x86_64-3.10\n",
      "  \u001b[31m   \u001b[0m creating build/temp.linux-x86_64-3.10/src\n",
      "  \u001b[31m   \u001b[0m creating build/temp.linux-x86_64-3.10/src/mrsqm\n",
      "  \u001b[31m   \u001b[0m creating build/temp.linux-x86_64-3.10/src/mrsqm/sfa\n",
      "  \u001b[31m   \u001b[0m In file included from src/mrsqm/sfa/SFA.h:4,\n",
      "  \u001b[31m   \u001b[0m                  from src/mrsqm/sfa/SFA.cpp:5:\n",
      "  \u001b[31m   \u001b[0m src/mrsqm/sfa/DFT.h:4:10: fatal error: fftw3.h: No such file or directory\n",
      "  \u001b[31m   \u001b[0m     4 | #include <fftw3.h>\n",
      "  \u001b[31m   \u001b[0m       |          ^~~~~~~~~\n",
      "  \u001b[31m   \u001b[0m compilation terminated.\n",
      "  \u001b[31m   \u001b[0m In file included from src/mrsqm/sfa/DFT.cpp:5:\n",
      "  \u001b[31m   \u001b[0m src/mrsqm/sfa/DFT.h:4:10: fatal error: fftw3.h: No such file or directory\n",
      "  \u001b[31m   \u001b[0m     4 | #include <fftw3.h>\n",
      "  \u001b[31m   \u001b[0m       |          ^~~~~~~~~\n",
      "  \u001b[31m   \u001b[0m compilation terminated.\n",
      "  \u001b[31m   \u001b[0m In file included from src/mrsqm/sfa/MFT.h:5,\n",
      "  \u001b[31m   \u001b[0m                  from src/mrsqm/sfa/MFT.cpp:5:\n",
      "  \u001b[31m   \u001b[0m src/mrsqm/sfa/DFT.h:4:10: fatal error: fftw3.h: No such file or directory\n",
      "  \u001b[31m   \u001b[0m     4 | #include <fftw3.h>\n",
      "  \u001b[31m   \u001b[0m       |          ^~~~~~~~~\n",
      "  \u001b[31m   \u001b[0m compilation terminated.\n",
      "  \u001b[31m   \u001b[0m In file included from src/mrsqm/sfa/SFA.h:4,\n",
      "  \u001b[31m   \u001b[0m                  from src/mrsqm/sfa/SFAWrapper.cpp:1,\n",
      "  \u001b[31m   \u001b[0m                  from src/mrsqm/mrsqm_wrapper.cpp:804:\n",
      "  \u001b[31m   \u001b[0m src/mrsqm/sfa/DFT.h:4:10: fatal error: fftw3.h: No such file or directory\n",
      "  \u001b[31m   \u001b[0m     4 | #include <fftw3.h>\n",
      "  \u001b[31m   \u001b[0m       |          ^~~~~~~~~\n",
      "  \u001b[31m   \u001b[0m compilation terminated.\n",
      "  \u001b[31m   \u001b[0m error: Command \"x86_64-linux-gnu-gcc -Wno-unused-result -Wsign-compare -DNDEBUG -g -fwrapv -O2 -Wall -g -fstack-protector-strong -Wformat -Werror=format-security -g -fwrapv -O2 -fPIC -Isrc/mrsqm -I/usr/include/python3.10 -c src/mrsqm/sfa/SFA.cpp -o build/temp.linux-x86_64-3.10/src/mrsqm/sfa/SFA.o -Wall -Ofast -g -std=c++11 -ffast-math\" failed with exit status 1\n",
      "  \u001b[31m   \u001b[0m \u001b[31m[end of output]\u001b[0m\n",
      "  \n",
      "  \u001b[1;35mnote\u001b[0m: This error originates from a subprocess, and is likely not a problem with pip.\n",
      "\u001b[31m  ERROR: Failed building wheel for mrsqm\u001b[0m\u001b[31m\n",
      "\u001b[0m\u001b[?25hFailed to build mrsqm\n",
      "\u001b[31mERROR: Could not build wheels for mrsqm, which is required to install pyproject.toml-based projects\u001b[0m\u001b[31m\n",
      "\u001b[0mNote: you may need to restart the kernel to use updated packages.\n"
     ]
    }
   ],
   "source": [
    "pip install mrsqm"
   ]
  },
  {
   "cell_type": "code",
   "execution_count": 2,
   "metadata": {
    "scrolled": false
   },
   "outputs": [
    {
     "ename": "ModuleNotFoundError",
     "evalue": "No module named 'mrsqm'",
     "output_type": "error",
     "traceback": [
      "\u001b[0;31m---------------------------------------------------------------------------\u001b[0m",
      "\u001b[0;31mModuleNotFoundError\u001b[0m                       Traceback (most recent call last)",
      "\u001b[0;32m/tmp/ipykernel_478761/304825003.py\u001b[0m in \u001b[0;36m<module>\u001b[0;34m\u001b[0m\n\u001b[0;32m----> 1\u001b[0;31m \u001b[0;32mfrom\u001b[0m \u001b[0mmrsqm\u001b[0m \u001b[0;32mimport\u001b[0m \u001b[0mMrSQMClassifier\u001b[0m\u001b[0;34m\u001b[0m\u001b[0;34m\u001b[0m\u001b[0m\n\u001b[0m",
      "\u001b[0;31mModuleNotFoundError\u001b[0m: No module named 'mrsqm'"
     ]
    }
   ],
   "source": [
    "from mrsqm import MrSQMClassifier"
   ]
  },
  {
   "cell_type": "code",
   "execution_count": null,
   "metadata": {},
   "outputs": [],
   "source": [
    "from sklearn.metrics import accuracy_score, f1_score, confusion_matrix\n",
    "from sklearn.model_selection import cross_val_predict, KFold\n",
    "import sklearn\n",
    "import numpy as np\n",
    "import os\n",
    "import sys\n",
    "import time\n",
    "\n"
   ]
  },
  {
   "cell_type": "code",
   "execution_count": null,
   "metadata": {},
   "outputs": [],
   "source": [
    "# define a list of datasets\n",
    "datasets = [\n",
    "\"Control_charts\",\n",
    "\"ETCHING_Multivar\",\n",
    "\"Hydraulic_systems_10HZ_Multivar\",\n",
    "\"Hydraulic_systems_100HZ_Multivar\",\n",
    "\"Gas_sensors_home_activity\",\n",
    "# \"PHM2022_Multivar\",\n",
    "# \"PHM2022_Univar_PIN\",\n",
    "# \"PHM2022_Univar_PO\",\n",
    "# \"PHM2022_Univar_PDIN\",\n",
    "# \"CWRU_12k_DE_univar\",\n",
    "# \"CWRU_12k_DE_multivar\",\n",
    "# \"CWRU_12k_FE_univar\",\n",
    "# \"CWRU_12k_FE_multivar\",\n",
    "# \"CWRU_48k_DE_univar\",\n",
    "# \"CWRU_48k_DE_multivar\",\n",
    "# \"MFPT_48KHZ_Univar\",\n",
    "# \"MFPT_96KHZ_Univar\",\n",
    "# \"PADERBORN_64KHZ_Univar\",\n",
    "# \"PADERBORN_4KHZ_Univar\",\n",
    "# \"PADERBORN_64KHZ_Multivar\",\n",
    "# \"PADERBORN_4KHZ_Multivar\",\n",
    "# \"BEARING_Univar\",\n",
    "]\n",
    "\n",
    "datasets_path = \"../datasets\"\n",
    "print(f\"We are going to work on {len(datasets)} datasets!\")\n",
    "\n",
    "\n",
    "for dataset in datasets:\n",
    "    Dataset_name = dataset + \"_Dataset\"\n",
    "    Dataset = np.load(datasets_path + \"/\" + Dataset_name + \".npy\", mmap_mode='r')\n",
    "    print(Dataset.shape)\n",
    "    \n",
    "\n",
    "    Labels_name = dataset + \"_Labels\"\n",
    "    Labels = np.load(datasets_path + \"/\"  + Labels_name + \".npy\", mmap_mode='r')\n"
   ]
  },
  {
   "cell_type": "code",
   "execution_count": null,
   "metadata": {},
   "outputs": [],
   "source": [
    "#pip install mrsqm"
   ]
  },
  {
   "cell_type": "code",
   "execution_count": null,
   "metadata": {},
   "outputs": [],
   "source": [
    "pip show sktime"
   ]
  },
  {
   "cell_type": "code",
   "execution_count": null,
   "metadata": {
    "scrolled": false
   },
   "outputs": [],
   "source": [
    "# change this directory for your machine\n",
    "root_dir = './'\n",
    "\n",
    "\n",
    "# define a list of algorithms\n",
    "algorirhms_path = \"./classifiers\"\n",
    "\n",
    "from classifiers import mrsqm_module\n",
    "\n",
    "\n",
    "# define the number of folds\n",
    "n_folds = 5\n",
    "\n",
    "# perform cross-validation for each dataset and algorithm combination\n",
    "for dataset in datasets:\n",
    "    Dataset_name = dataset + \"_Dataset\"\n",
    "    Dataset = np.load(datasets_path + \"/\" + Dataset_name + \".npy\", mmap_mode='r')\n",
    "    start = time.time() ##Start timing\n",
    "    print(f\"Starting to work on {Dataset_name} at {start}\")\n",
    "    print(f\"The shape of the dataset is:{Dataset.shape}\")\n",
    "    \n",
    "\n",
    "    Labels_name = dataset + \"_Labels\"\n",
    "    Labels = np.load(datasets_path + \"/\"  + Labels_name + \".npy\", mmap_mode='r')\n",
    "\n",
    "    # Create a folder for results\n",
    "    results_path = root_dir + \"Results/\" + Dataset_name\n",
    "    if os.path.exists(results_path):\n",
    "        pass\n",
    "    else:\n",
    "        try:\n",
    "            os.makedirs(results_path)\n",
    "        except:\n",
    "            # in case another machine created the path meanwhile !:(\n",
    "            pass\n",
    "\n",
    "\n",
    "\n",
    "    #Run The MrSQM Module\n",
    "    mrsqm_module.MRSQM(results_path, Dataset_name, Dataset, Labels, nb_folds=n_folds,\n",
    "                        strat='RS',\n",
    "                        features_per_rep=500, \n",
    "                        selection_per_rep=2000, \n",
    "                        nsax=1, \n",
    "                        nsfa=0)\n",
    "\n",
    "\n",
    "\n",
    "    print(f\"Working on {Dataset_name} finished successfully!\")\n",
    "\n",
    "\n",
    "    \n",
    "\n"
   ]
  },
  {
   "cell_type": "code",
   "execution_count": null,
   "metadata": {},
   "outputs": [],
   "source": []
  }
 ],
 "metadata": {
  "kernelspec": {
   "display_name": "Python 3 (ipykernel)",
   "language": "python",
   "name": "python3"
  },
  "language_info": {
   "codemirror_mode": {
    "name": "ipython",
    "version": 3
   },
   "file_extension": ".py",
   "mimetype": "text/x-python",
   "name": "python",
   "nbconvert_exporter": "python",
   "pygments_lexer": "ipython3",
   "version": "3.10.6"
  },
  "vscode": {
   "interpreter": {
    "hash": "aee8b7b246df8f9039afb4144a1f6fd8d2ca17a180786b69acc140d282b71a49"
   }
  }
 },
 "nbformat": 4,
 "nbformat_minor": 2
}
