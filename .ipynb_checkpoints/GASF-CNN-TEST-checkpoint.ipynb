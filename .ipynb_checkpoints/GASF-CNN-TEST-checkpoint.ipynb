{
 "cells": [
  {
   "cell_type": "code",
   "execution_count": 7,
   "id": "87f314c2",
   "metadata": {},
   "outputs": [],
   "source": [
    "import numpy as np\n",
    "from sklearn.preprocessing import OneHotEncoder"
   ]
  },
  {
   "cell_type": "code",
   "execution_count": 8,
   "id": "9abc1103",
   "metadata": {},
   "outputs": [
    {
     "name": "stdout",
     "output_type": "stream",
     "text": [
      "(2205, 600, 17)\n",
      "(2205,)\n"
     ]
    }
   ],
   "source": [
    "datasets = [\n",
    "\"Hydraulic_systems_10HZ_Multivar\",\n",
    "]\n",
    "\n",
    "datasets_path = \"../datasets\"\n",
    "\n",
    "for dataset in datasets:\n",
    "    Dataset_name = dataset + \"_Dataset\"\n",
    "    Dataset = np.load(datasets_path + \"/\" + Dataset_name + \".npy\")\n",
    "    Dataset = Dataset\n",
    "    print(Dataset.shape)\n",
    "    \n",
    "    Labels_name = dataset + \"_Labels\"\n",
    "    Labels = np.load(datasets_path + \"/\"  + Labels_name + \".npy\")\n",
    "    Labels = Labels.squeeze()\n",
    "    print(Labels.shape)"
   ]
  },
  {
   "cell_type": "code",
   "execution_count": 9,
   "id": "26fdb99c",
   "metadata": {},
   "outputs": [
    {
     "data": {
      "text/plain": [
       "(2205, 4)"
      ]
     },
     "execution_count": 9,
     "metadata": {},
     "output_type": "execute_result"
    }
   ],
   "source": [
    "# transform the labels from integers to one hot vectors\n",
    "enc = OneHotEncoder(categories='auto')\n",
    "Labels = enc.fit_transform(Labels.reshape(-1, 1)).toarray()\n",
    "Labels.shape"
   ]
  },
  {
   "cell_type": "code",
   "execution_count": 10,
   "id": "5e122903",
   "metadata": {},
   "outputs": [],
   "source": [
    "N = Dataset.shape[0]\n",
    "T = Dataset.shape[1]\n",
    "M = Dataset.shape[2]\n",
    "P = 256 #Length of the approximated representation\n",
    "\n",
    "Dataset_PAA = np.zeros((N,P, M))\n",
    "from pyts.approximation import PiecewiseAggregateApproximation\n",
    "# PAA transformation\n",
    "paa = PiecewiseAggregateApproximation(window_size=None, output_size=P)\n",
    "for i in range(M):\n",
    "    X_paa = paa.transform(Dataset[:,:,i])\n",
    "    Dataset_PAA[:,:,i] = X_paa"
   ]
  },
  {
   "cell_type": "code",
   "execution_count": 11,
   "id": "d1a9e542",
   "metadata": {},
   "outputs": [
    {
     "data": {
      "text/plain": [
       "[<matplotlib.lines.Line2D at 0x7f5943559e80>]"
      ]
     },
     "execution_count": 11,
     "metadata": {},
     "output_type": "execute_result"
    },
    {
     "data": {
      "image/png": "[encoded data removed]",
      "text/plain": [
       "<Figure size 432x288 with 1 Axes>"
      ]
     },
     "metadata": {
      "needs_background": "light"
     },
     "output_type": "display_data"
    }
   ],
   "source": [
    "import matplotlib.pyplot as plt\n",
    "plt.plot(Dataset_PAA[0,:,0])"
   ]
  },
  {
   "cell_type": "code",
   "execution_count": 12,
   "id": "579fa7a5",
   "metadata": {},
   "outputs": [
    {
     "data": {
      "text/plain": [
       "[<matplotlib.lines.Line2D at 0x7f594143c5e0>]"
      ]
     },
     "execution_count": 12,
     "metadata": {},
     "output_type": "execute_result"
    },
    {
     "data": {
      "image/png": "[encoded data removed]",
      "text/plain": [
       "<Figure size 432x288 with 1 Axes>"
      ]
     },
     "metadata": {
      "needs_background": "light"
     },
     "output_type": "display_data"
    }
   ],
   "source": [
    "plt.plot(Dataset[0,:,0])"
   ]
  },
  {
   "cell_type": "code",
   "execution_count": 13,
   "id": "c20854e8",
   "metadata": {},
   "outputs": [],
   "source": [
    "# Dataset = Dataset[:,:,0]\n",
    "# Dataset.shape"
   ]
  },
  {
   "cell_type": "code",
   "execution_count": 14,
   "id": "6c65b2e7",
   "metadata": {},
   "outputs": [
    {
     "data": {
      "text/plain": [
       "(2205, 256, 17)"
      ]
     },
     "execution_count": 14,
     "metadata": {},
     "output_type": "execute_result"
    }
   ],
   "source": [
    "Dataset_PAA.shape"
   ]
  },
  {
   "cell_type": "code",
   "execution_count": 15,
   "id": "307d2253",
   "metadata": {},
   "outputs": [
    {
     "data": {
      "text/plain": [
       "array([0., 1.])"
      ]
     },
     "execution_count": 15,
     "metadata": {},
     "output_type": "execute_result"
    }
   ],
   "source": [
    "np.unique(Labels)"
   ]
  },
  {
   "cell_type": "code",
   "execution_count": 16,
   "id": "6da2da64",
   "metadata": {},
   "outputs": [],
   "source": [
    "# Recurrence plot transformation\n",
    "from pyts.image import GramianAngularField\n",
    "transformer = GramianAngularField()\n",
    "Dataset_PAA_GAF = np.zeros((N,P,P,M))\n",
    "\n",
    "for i in range(M):\n",
    "    transformer.fit(Dataset_PAA[:,:,i])\n",
    "    X_paa_gaf = transformer.transform(Dataset_PAA[:,:,i])\n",
    "    Dataset_PAA_GAF[:,:,:,i] = X_paa_gaf\n"
   ]
  },
  {
   "cell_type": "code",
   "execution_count": 17,
   "id": "fa8b7825",
   "metadata": {},
   "outputs": [
    {
     "data": {
      "text/plain": [
       "(2205, 256, 256, 17)"
      ]
     },
     "execution_count": 17,
     "metadata": {},
     "output_type": "execute_result"
    }
   ],
   "source": [
    "Dataset_PAA_GAF.shape"
   ]
  },
  {
   "cell_type": "code",
   "execution_count": 18,
   "id": "eb410678",
   "metadata": {},
   "outputs": [],
   "source": [
    "del Dataset_PAA"
   ]
  },
  {
   "cell_type": "code",
   "execution_count": 19,
   "id": "c771d414",
   "metadata": {},
   "outputs": [],
   "source": [
    "del Dataset"
   ]
  },
  {
   "cell_type": "code",
   "execution_count": 20,
   "id": "b2ca704a",
   "metadata": {},
   "outputs": [
    {
     "data": {
      "text/plain": [
       "25907"
      ]
     },
     "execution_count": 20,
     "metadata": {},
     "output_type": "execute_result"
    }
   ],
   "source": [
    "import gc\n",
    "\n",
    "# Perform your code and create some objects\n",
    "\n",
    "# Call the garbage collector\n",
    "gc.collect()"
   ]
  },
  {
   "cell_type": "code",
   "execution_count": 21,
   "id": "876914c0",
   "metadata": {},
   "outputs": [
    {
     "data": {
      "text/plain": [
       "((220, 256, 256, 17), (1985, 256, 256, 17), (220, 4), (1985, 4))"
      ]
     },
     "execution_count": 21,
     "metadata": {},
     "output_type": "execute_result"
    }
   ],
   "source": [
    "from sklearn.model_selection import train_test_split\n",
    "# Split data into training and testing sets\n",
    "X_train, X_test, y_train, y_test = train_test_split(Dataset_PAA_GAF, Labels, test_size=0.9, random_state=42)\n",
    "X_train.shape, X_test.shape, y_train.shape, y_test.shape"
   ]
  },
  {
   "cell_type": "code",
   "execution_count": 22,
   "id": "72bdefdd",
   "metadata": {},
   "outputs": [
    {
     "data": {
      "image/png": "[encoded data removed]",
      "text/plain": [
       "<Figure size 360x360 with 1 Axes>"
      ]
     },
     "metadata": {
      "needs_background": "light"
     },
     "output_type": "display_data"
    }
   ],
   "source": [
    "import matplotlib.pyplot as plt\n",
    "\n",
    "# Define the label you want to add to the plot\n",
    "label_text = 'Label: ' + str(y_train[6])\n",
    "\n",
    "# Show the results for the first time series\n",
    "fig, ax = plt.subplots(figsize=(5, 5))\n",
    "ax.imshow(X_train[6,:,:,0], cmap='hsv', origin='lower')\n",
    "ax.set_title('GAF Plot', fontsize=18)\n",
    "ax.text(0, 1, label_text, transform=ax.transAxes, fontsize=12, va='top', ha='left')\n",
    "plt.tight_layout()\n",
    "plt.show()"
   ]
  },
  {
   "cell_type": "code",
   "execution_count": 23,
   "id": "7ac89a65",
   "metadata": {},
   "outputs": [
    {
     "name": "stdout",
     "output_type": "stream",
     "text": [
      "Model: \"model\"\n",
      "_________________________________________________________________\n",
      " Layer (type)                Output Shape              Param #   \n",
      "=================================================================\n",
      " input_1 (InputLayer)        [(None, 256, 256, 17)]    0         \n",
      "                                                                 \n",
      " conv2d (Conv2D)             (None, 254, 254, 64)      9856      \n",
      "                                                                 \n",
      " max_pooling2d (MaxPooling2D  (None, 127, 127, 64)     0         \n",
      " )                                                               \n",
      "                                                                 \n",
      " conv2d_1 (Conv2D)           (None, 125, 125, 64)      36928     \n",
      "                                                                 \n",
      " max_pooling2d_1 (MaxPooling  (None, 62, 62, 64)       0         \n",
      " 2D)                                                             \n",
      "                                                                 \n",
      " flatten (Flatten)           (None, 246016)            0         \n",
      "                                                                 \n",
      " dense (Dense)               (None, 128)               31490176  \n",
      "                                                                 \n",
      " dense_1 (Dense)             (None, 64)                8256      \n",
      "                                                                 \n",
      " dense_2 (Dense)             (None, 4)                 260       \n",
      "                                                                 \n",
      "=================================================================\n",
      "Total params: 31,545,476\n",
      "Trainable params: 31,545,476\n",
      "Non-trainable params: 0\n",
      "_________________________________________________________________\n"
     ]
    }
   ],
   "source": [
    "import tensorflow as tf\n",
    "from tensorflow.keras import layers\n",
    "import tensorflow.keras as keras\n",
    "\n",
    "\n",
    "input_shape = X_train.shape[1:]\n",
    "nb_classes = len(np.unique(Labels, axis=0))\n",
    "\n",
    "input_layer = keras.layers.Input(input_shape)\n",
    "\n",
    "# Convolutional layers\n",
    "conv1 = keras.layers.Conv2D(64, (3, 3), activation='relu')(input_layer)\n",
    "pooling1 = keras.layers.MaxPooling2D((2, 2))(conv1)\n",
    "\n",
    "conv2 = keras.layers.Conv2D(64, (3, 3), activation='relu')(pooling1)\n",
    "pooling2 = keras.layers.MaxPooling2D((2, 2))(conv2)\n",
    "\n",
    "# Flatten the output\n",
    "flatten = keras.layers.Flatten()(pooling2)\n",
    "\n",
    "# Fully connected layers\n",
    "dense1 = keras.layers.Dense(128, activation='relu')(flatten)\n",
    "dense2 = keras.layers.Dense(64, activation='relu')(dense1)\n",
    "\n",
    "output_layer = keras.layers.Dense(nb_classes, activation='softmax')(dense2)\n",
    "\n",
    "model = keras.models.Model(inputs=input_layer, outputs=output_layer)\n",
    "\n",
    "model.summary()"
   ]
  },
  {
   "cell_type": "code",
   "execution_count": 27,
   "id": "780aaa8f",
   "metadata": {},
   "outputs": [],
   "source": [
    "# Compile the model\n",
    "model.compile(optimizer='adam',\n",
    "              loss='categorical_crossentropy',\n",
    "              metrics=['accuracy'])"
   ]
  },
  {
   "cell_type": "code",
   "execution_count": null,
   "id": "bc40dc9c",
   "metadata": {},
   "outputs": [
    {
     "name": "stdout",
     "output_type": "stream",
     "text": [
      "Epoch 1/20\n",
      "7/7 [==============================] - 24s 4s/step - loss: 0.3990 - accuracy: 0.8682 - val_loss: 2.0451 - val_accuracy: 0.4610\n",
      "Epoch 2/20\n",
      "7/7 [==============================] - 17s 3s/step - loss: 0.2881 - accuracy: 0.9000 - val_loss: 2.1691 - val_accuracy: 0.4448\n",
      "Epoch 3/20\n",
      "7/7 [==============================] - 17s 3s/step - loss: 0.2270 - accuracy: 0.9227 - val_loss: 2.4970 - val_accuracy: 0.4605\n",
      "Epoch 4/20\n",
      "7/7 [==============================] - 17s 3s/step - loss: 0.1418 - accuracy: 0.9500 - val_loss: 3.1909 - val_accuracy: 0.4579\n",
      "Epoch 5/20\n",
      "7/7 [==============================] - 17s 3s/step - loss: 0.1806 - accuracy: 0.9409 - val_loss: 2.7073 - val_accuracy: 0.4458\n",
      "Epoch 6/20\n",
      "7/7 [==============================] - 17s 3s/step - loss: 0.0780 - accuracy: 0.9727 - val_loss: 3.2625 - val_accuracy: 0.4569\n",
      "Epoch 7/20\n",
      "7/7 [==============================] - ETA: 0s - loss: 0.0363 - accuracy: 1.0000"
     ]
    }
   ],
   "source": [
    "model.fit(X_train, y_train, epochs=20,batch_size=16 ,validation_data=(X_test, y_test))\n"
   ]
  },
  {
   "cell_type": "code",
   "execution_count": null,
   "id": "06dee5b6",
   "metadata": {},
   "outputs": [],
   "source": []
  }
 ],
 "metadata": {
  "kernelspec": {
   "display_name": "Python 3.9 (DL)",
   "language": "python",
   "name": "dl"
  },
  "language_info": {
   "codemirror_mode": {
    "name": "ipython",
    "version": 3
   },
   "file_extension": ".py",
   "mimetype": "text/x-python",
   "name": "python",
   "nbconvert_exporter": "python",
   "pygments_lexer": "ipython3",
   "version": "3.9.16"
  }
 },
 "nbformat": 4,
 "nbformat_minor": 5
}
