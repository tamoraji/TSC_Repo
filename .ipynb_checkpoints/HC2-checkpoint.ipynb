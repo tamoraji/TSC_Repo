{
 "cells": [
  {
   "cell_type": "code",
   "execution_count": 1,
   "metadata": {},
   "outputs": [],
   "source": [
    "from sklearn.metrics import accuracy_score, f1_score, confusion_matrix\n",
    "from sklearn.model_selection import cross_val_predict, KFold\n",
    "import sklearn\n",
    "import numpy as np\n",
    "import os\n",
    "import sys\n",
    "\n"
   ]
  },
  {
   "cell_type": "code",
   "execution_count": 2,
   "metadata": {},
   "outputs": [
    {
     "name": "stdout",
     "output_type": "stream",
     "text": [
      "(600, 60, 1)\n",
      "(53785, 749, 3)\n",
      "(53785, 749, 1)\n"
     ]
    }
   ],
   "source": [
    "# define a list of datasets\n",
    "datasets = [\n",
    "# \"Control_charts\",\n",
    "\"ETCHING_Multivar\",\n",
    "\"Hydraulic_systems_10HZ_Multivar\",\n",
    "\"Hydraulic_systems_100HZ_Multivar\",\n",
    "\"Gas_sensors_home_activity\",\n",
    "# \"PHM2022_Multivar\",\n",
    "# \"PHM2022_Univar_PIN\",\n",
    "# \"PHM2022_Univar_PO\",\n",
    "# \"PHM2022_Univar_PDIN\",\n",
    "# \"CWRU_12k_DE_univar\",\n",
    "# \"CWRU_12k_DE_multivar\",\n",
    "# \"CWRU_12k_FE_univar\",\n",
    "# \"CWRU_12k_FE_multivar\",\n",
    "#\"CWRU_48k_DE_univar\",\n",
    "#\"CWRU_48k_DE_multivar\",\n",
    "#\"MFPT_48KHZ_Univar\",\n",
    "#\"MFPT_96KHZ_Univar\",\n",
    "# \"BEARING_Univar\",\n",
    "#\"PADERBORN_64KHZ_Univar\",\n",
    "# \"PADERBORN_4KHZ_Univar\",\n",
    "# \"PADERBORN_64KHZ_Multivar\",\n",
    "# \"PADERBORN_4KHZ_Multivar\",\n",
    "]\n",
    "\n",
    "datasets_path = \"../datasets\"\n",
    "print(f\"We are going to work on {len(datasets)} datasets!\")\n",
    "\n",
    "\n",
    "for dataset in datasets:\n",
    "    Dataset_name = dataset + \"_Dataset\"\n",
    "    Dataset = np.load(datasets_path + \"/\" + Dataset_name + \".npy\", mmap_mode='r')\n",
    "    print(Dataset.shape)\n",
    "    \n",
    "\n",
    "    Labels_name = dataset + \"_Labels\"\n",
    "    Labels = np.load(datasets_path + \"/\"  + Labels_name + \".npy\", mmap_mode='r')\n"
   ]
  },
  {
   "cell_type": "code",
   "execution_count": null,
   "metadata": {
    "scrolled": false
   },
   "outputs": [
    {
     "name": "stdout",
     "output_type": "stream",
     "text": [
      "\n",
      " The dataset shape is:(600, 60, 1)\n",
      "\n",
      " The number of data samples (N) is:600\n",
      "\n",
      " The number of TS length (T) is:60\n",
      "\n",
      " The number of TS dimention (M) is:1\n"
     ]
    }
   ],
   "source": [
    "# change this directory for your machine\n",
    "root_dir = './'\n",
    "\n",
    "\n",
    "# define a list of algorithms\n",
    "algorirhms_path = \"./classifiers\"\n",
    "\n",
    "from classifiers import HC2_module\n",
    "\n",
    "\n",
    "# define the number of folds\n",
    "n_folds = 5\n",
    "\n",
    "# perform cross-validation for each dataset and algorithm combination\n",
    "for dataset in datasets:\n",
    "    Dataset_name = dataset + \"_Dataset\"\n",
    "    Dataset = np.load(datasets_path + \"/\" + Dataset_name + \".npy\", mmap_mode='r')\n",
    "    \n",
    "\n",
    "    Labels_name = dataset + \"_Labels\"\n",
    "    Labels = np.load(datasets_path + \"/\"  + Labels_name + \".npy\", mmap_mode='r')\n",
    "\n",
    "    # Create a folder for results\n",
    "    results_path = root_dir + \"Results/\" + Dataset_name\n",
    "    if os.path.exists(results_path):\n",
    "        pass\n",
    "    else:\n",
    "        try:\n",
    "            os.makedirs(results_path)\n",
    "        except:\n",
    "            # in case another machine created the path meanwhile !:(\n",
    "            pass\n",
    "\n",
    "\n",
    "\n",
    "    #Run The HC2 Module\n",
    "    HC2_module.HC2(results_path, Dataset_name, Dataset, Labels, nb_folds=n_folds,\n",
    "                n_jobs=10)\n",
    "    \n",
    "    print(f\"Working on {Dataset_name} finished successfully!\")\n",
    "\n",
    "\n",
    "\n",
    "\n",
    "\n",
    "\n",
    "    \n",
    "\n"
   ]
  },
  {
   "cell_type": "code",
   "execution_count": null,
   "metadata": {},
   "outputs": [],
   "source": []
  }
 ],
 "metadata": {
  "kernelspec": {
   "display_name": "Python 3 (ipykernel)",
   "language": "python",
   "name": "python3"
  },
  "language_info": {
   "codemirror_mode": {
    "name": "ipython",
    "version": 3
   },
   "file_extension": ".py",
   "mimetype": "text/x-python",
   "name": "python",
   "nbconvert_exporter": "python",
   "pygments_lexer": "ipython3",
   "version": "3.10.6"
  },
  "vscode": {
   "interpreter": {
    "hash": "aee8b7b246df8f9039afb4144a1f6fd8d2ca17a180786b69acc140d282b71a49"
   }
  }
 },
 "nbformat": 4,
 "nbformat_minor": 2
}
