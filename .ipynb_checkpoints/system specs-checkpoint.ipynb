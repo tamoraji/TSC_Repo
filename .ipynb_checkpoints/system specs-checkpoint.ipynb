{
 "cells": [
  {
   "cell_type": "code",
   "execution_count": 6,
   "id": "105a108c",
   "metadata": {},
   "outputs": [
    {
     "name": "stdout",
     "output_type": "stream",
     "text": [
      "Defaulting to user installation because normal site-packages is not writeable\n",
      "Requirement already satisfied: psutil in /usr/lib/python3/dist-packages (5.9.0)\n"
     ]
    }
   ],
   "source": [
    "!pip install psutil"
   ]
  },
  {
   "cell_type": "code",
   "execution_count": 9,
   "id": "3af95619",
   "metadata": {},
   "outputs": [
    {
     "data": {
      "text/plain": [
       "('x86_64', 64, 4.067406250000002)"
      ]
     },
     "execution_count": 9,
     "metadata": {},
     "output_type": "execute_result"
    }
   ],
   "source": [
    "import psutil\n",
    "import platform\n",
    "\n",
    "# Get CPU information\n",
    "cpu_name = platform.processor()\n",
    "cpu_cores = psutil.cpu_count()\n",
    "cpu_frequency = psutil.cpu_freq().current\n",
    "\n",
    "cpu_name,cpu_cores,cpu_frequency"
   ]
  },
  {
   "cell_type": "code",
   "execution_count": 11,
   "id": "2fe3f9a2",
   "metadata": {},
   "outputs": [
    {
     "data": {
      "text/plain": [
       "'NVIDIA RTX A5000\\nNVIDIA RTX A5000'"
      ]
     },
     "execution_count": 11,
     "metadata": {},
     "output_type": "execute_result"
    }
   ],
   "source": [
    "import subprocess\n",
    "\n",
    "gpu_info = subprocess.check_output(['nvidia-smi', '--query-gpu=gpu_name', '--format=csv,noheader'])\n",
    "\n",
    "# Access GPU name\n",
    "gpu_name = gpu_info.decode().strip()\n",
    "gpu_name"
   ]
  },
  {
   "cell_type": "code",
   "execution_count": 12,
   "id": "d81d9601",
   "metadata": {},
   "outputs": [
    {
     "data": {
      "text/plain": [
       "(134880063488, 77267128320)"
      ]
     },
     "execution_count": 12,
     "metadata": {},
     "output_type": "execute_result"
    }
   ],
   "source": [
    "import psutil\n",
    "\n",
    "# Get RAM information\n",
    "ram = psutil.virtual_memory()\n",
    "\n",
    "# Access RAM details\n",
    "total_ram = ram.total\n",
    "available_ram = ram.available\n",
    "total_ram, available_ram\n"
   ]
  },
  {
   "cell_type": "code",
   "execution_count": null,
   "id": "487f2886",
   "metadata": {},
   "outputs": [],
   "source": []
  }
 ],
 "metadata": {
  "kernelspec": {
   "display_name": "Python 3 (ipykernel)",
   "language": "python",
   "name": "python3"
  },
  "language_info": {
   "codemirror_mode": {
    "name": "ipython",
    "version": 3
   },
   "file_extension": ".py",
   "mimetype": "text/x-python",
   "name": "python",
   "nbconvert_exporter": "python",
   "pygments_lexer": "ipython3",
   "version": "3.10.6"
  }
 },
 "nbformat": 4,
 "nbformat_minor": 5
}
