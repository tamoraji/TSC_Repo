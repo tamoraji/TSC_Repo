{
 "cells": [
  {
   "cell_type": "code",
   "execution_count": null,
   "id": "ddb6f6d8",
   "metadata": {},
   "outputs": [],
   "source": [
    "import numpy as np\n",
    "import pyts\n",
    "from pyts.metrics import dtw\n",
    "import sklearn\n",
    "import time"
   ]
  },
  {
   "cell_type": "code",
   "execution_count": null,
   "id": "454dc657",
   "metadata": {},
   "outputs": [],
   "source": [
    "datasets = [\n",
    "\"Hydraulic_systems_10HZ_Multivar\",\n",
    "]\n",
    "\n",
    "datasets_path = \"../datasets\"\n",
    "\n",
    "for dataset in datasets:\n",
    "    Dataset_name = dataset + \"_Dataset\"\n",
    "    Dataset = np.load(datasets_path + \"/\" + Dataset_name + \".npy\")\n",
    "    Dataset = Dataset\n",
    "    print(Dataset.shape)\n",
    "    \n",
    "    Labels_name = dataset + \"_Labels\"\n",
    "    Labels = np.load(datasets_path + \"/\"  + Labels_name + \".npy\")\n",
    "    Labels = Labels.squeeze()\n",
    "    print(Labels.shape)"
   ]
  },
  {
   "cell_type": "code",
   "execution_count": null,
   "id": "cd20b0b4",
   "metadata": {},
   "outputs": [],
   "source": [
    "Dataset = Dataset[:,:,0]\n",
    "Dataset.shape"
   ]
  },
  {
   "cell_type": "code",
   "execution_count": null,
   "id": "bfe2c989",
   "metadata": {},
   "outputs": [],
   "source": [
    "N = Dataset.shape[0]\n",
    "T = Dataset.shape[1]\n",
    "N,T"
   ]
  },
  {
   "cell_type": "code",
   "execution_count": null,
   "id": "e4ccc8e8",
   "metadata": {},
   "outputs": [],
   "source": [
    "DTW_features = np.zeros((N,N))\n",
    "DTW_features.shape"
   ]
  },
  {
   "cell_type": "code",
   "execution_count": null,
   "id": "081b4e29",
   "metadata": {},
   "outputs": [],
   "source": [
    "dist = pyts.metrics.dtw(x=Dataset[0], y=Dataset[1],dist='square',\n",
    "                        method='sakoechiba', options={'window_size': 0.2})\n",
    "dist"
   ]
  },
  {
   "cell_type": "code",
   "execution_count": null,
   "id": "edab7977",
   "metadata": {},
   "outputs": [],
   "source": [
    "dist = pyts.metrics.dtw(x=Dataset[0], y=Dataset[59],dist='square',\n",
    "                        method='sakoechiba', options={'window_size': 0.2})\n",
    "dist"
   ]
  },
  {
   "cell_type": "code",
   "execution_count": null,
   "id": "e06877d3",
   "metadata": {},
   "outputs": [],
   "source": [
    "pyts.metrics.show_options(method='fast', disp=True)"
   ]
  },
  {
   "cell_type": "code",
   "execution_count": null,
   "id": "dd033020",
   "metadata": {},
   "outputs": [],
   "source": [
    "t_total = time.time() ##Start timing\n",
    "#%%time\n",
    "DTW_features = np.zeros((N,N))\n",
    "print(DTW_features.shape)\n",
    "for i in range(N):\n",
    "    for j in range(i,N):\n",
    "        dist = pyts.metrics.dtw(x=Dataset[i], y=Dataset[j],dist='square',\n",
    "                        method='sakoechiba', options={'window_size': 0.1})\n",
    "        DTW_features[i,j] = dist\n",
    "        DTW_features[j,i] = dist\n",
    "print(\"Total time elapsed: {:.4f}s\".format(time.time() - t_total))"
   ]
  },
  {
   "cell_type": "markdown",
   "id": "3e6e1b31",
   "metadata": {},
   "source": [
    "with method='sakoechiba', options={'window_size': 0.1}\n",
    "Total time elapsed: 4288.0859s\n",
    "(2205, 2205)\n",
    "with method='fast', options={'radius': 1}\n",
    "Total time elapsed: 19676.9638s"
   ]
  },
  {
   "cell_type": "code",
   "execution_count": null,
   "id": "4243418e",
   "metadata": {},
   "outputs": [],
   "source": [
    "DTW_features"
   ]
  },
  {
   "cell_type": "code",
   "execution_count": null,
   "id": "51c9525d",
   "metadata": {},
   "outputs": [],
   "source": [
    "t_total = time.time() ##Start timing\n",
    "%%time\n",
    "DTW_fast_features = np.zeros((N,N))\n",
    "print(DTW_fast_features.shape)\n",
    "for i in range(N):\n",
    "    for j in range(i,N):\n",
    "        dist = pyts.metrics.dtw(x=Dataset[i], y=Dataset[j],dist='square',\n",
    "                        method='fast', options={'radius': 1})\n",
    "        DTW_fast_features[i,j] = dist\n",
    "        DTW_fast_features[j,i] = dist\n",
    "print(\"Total time elapsed: {:.4f}s\".format(time.time() - t_total))"
   ]
  },
  {
   "cell_type": "code",
   "execution_count": null,
   "id": "1a6ec272",
   "metadata": {},
   "outputs": [],
   "source": [
    "DTW_fast_features"
   ]
  },
  {
   "cell_type": "code",
   "execution_count": null,
   "id": "c2958e46",
   "metadata": {},
   "outputs": [],
   "source": [
    "##Generate the initial training and test sets to feed to the model\n",
    "from sklearn.model_selection import train_test_split\n",
    "\n",
    "X_train, X_test, y_train, y_test = train_test_split(DTW_features, Labels, train_size=0.8 ,shuffle=True)\n",
    "X_train.shape, X_test.shape, y_train.shape, y_test.shape"
   ]
  },
  {
   "cell_type": "code",
   "execution_count": null,
   "id": "060fe503",
   "metadata": {},
   "outputs": [],
   "source": [
    "##Generate the initial training and test sets to feed to the model\n",
    "from sklearn.model_selection import train_test_split\n",
    "\n",
    "X_train, X_test, y_train, y_test = train_test_split(DTW_features, Labels, train_size=0.8 ,shuffle=True)\n",
    "X_train.shape, X_test.shape, y_train.shape, y_test.shape"
   ]
  },
  {
   "cell_type": "code",
   "execution_count": null,
   "id": "5406167d",
   "metadata": {},
   "outputs": [],
   "source": [
    "from sklearn.svm import SVC\n",
    "classifier = SVC(kernel='poly')"
   ]
  },
  {
   "cell_type": "code",
   "execution_count": null,
   "id": "a48a3e6f",
   "metadata": {},
   "outputs": [],
   "source": [
    "classifier.fit(X_train, y_train)"
   ]
  },
  {
   "cell_type": "code",
   "execution_count": null,
   "id": "caa901d1",
   "metadata": {},
   "outputs": [],
   "source": [
    "y_pred = classifier.predict(X_test)\n",
    "y_pred"
   ]
  },
  {
   "cell_type": "code",
   "execution_count": null,
   "id": "802fedcb",
   "metadata": {},
   "outputs": [],
   "source": [
    "from sklearn.metrics import accuracy_score\n",
    "accuracy = accuracy_score(y_test, y_pred)\n",
    "print(accuracy)"
   ]
  },
  {
   "cell_type": "code",
   "execution_count": null,
   "id": "e354c06d",
   "metadata": {},
   "outputs": [],
   "source": [
    "X_train, X_test, y_train, y_test = train_test_split(Dataset, Labels, train_size=0.8 ,shuffle=True)\n",
    "X_train.shape, X_test.shape, y_train.shape, y_test.shape"
   ]
  },
  {
   "cell_type": "code",
   "execution_count": null,
   "id": "0b1fac76",
   "metadata": {},
   "outputs": [],
   "source": [
    "from sklearn.svm import SVC\n",
    "classifier = SVC(kernel='poly')"
   ]
  },
  {
   "cell_type": "code",
   "execution_count": null,
   "id": "005d3d37",
   "metadata": {},
   "outputs": [],
   "source": [
    "classifier.fit(X_train, y_train)"
   ]
  },
  {
   "cell_type": "code",
   "execution_count": null,
   "id": "134a8b37",
   "metadata": {},
   "outputs": [],
   "source": [
    "y_pred = classifier.predict(X_test)\n",
    "y_pred"
   ]
  },
  {
   "cell_type": "code",
   "execution_count": null,
   "id": "ff5c8d95",
   "metadata": {},
   "outputs": [],
   "source": [
    "from sklearn.metrics import accuracy_score\n",
    "accuracy = accuracy_score(y_test, y_pred)\n",
    "print(accuracy)"
   ]
  },
  {
   "cell_type": "code",
   "execution_count": null,
   "id": "afe2d486",
   "metadata": {},
   "outputs": [],
   "source": []
  }
 ],
 "metadata": {
  "kernelspec": {
   "display_name": "Python 3 (ipykernel)",
   "language": "python",
   "name": "python3"
  },
  "language_info": {
   "codemirror_mode": {
    "name": "ipython",
    "version": 3
   },
   "file_extension": ".py",
   "mimetype": "text/x-python",
   "name": "python",
   "nbconvert_exporter": "python",
   "pygments_lexer": "ipython3",
   "version": "3.10.6"
  }
 },
 "nbformat": 4,
 "nbformat_minor": 5
}
