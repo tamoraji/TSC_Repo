{
 "cells": [
  {
   "cell_type": "code",
   "execution_count": null,
   "id": "cc48492d",
   "metadata": {},
   "outputs": [],
   "source": [
    "#pip install pyts"
   ]
  },
  {
   "cell_type": "code",
   "execution_count": null,
   "id": "76cd8deb",
   "metadata": {},
   "outputs": [],
   "source": [
    "#pip install sktime"
   ]
  },
  {
   "cell_type": "code",
   "execution_count": 1,
   "id": "63436f48",
   "metadata": {},
   "outputs": [],
   "source": [
    "import numpy as np\n",
    "import pyts\n",
    "from pyts.metrics import dtw\n",
    "import sklearn"
   ]
  },
  {
   "cell_type": "code",
   "execution_count": 2,
   "id": "6c620013",
   "metadata": {},
   "outputs": [
    {
     "name": "stdout",
     "output_type": "stream",
     "text": [
      "(128, 112, 18)\n",
      "(128,)\n"
     ]
    }
   ],
   "source": [
    "datasets = [\n",
    "\"ETCHING_Multivar\",\n",
    "]\n",
    "\n",
    "datasets_path = \"../datasets\"\n",
    "\n",
    "for dataset in datasets:\n",
    "    Dataset_name = dataset + \"_Dataset\"\n",
    "    Dataset = np.load(datasets_path + \"/\" + Dataset_name + \".npy\")\n",
    "    Dataset = Dataset\n",
    "    print(Dataset.shape)\n",
    "    \n",
    "    Labels_name = dataset + \"_Labels\"\n",
    "    Labels = np.load(datasets_path + \"/\"  + Labels_name + \".npy\")\n",
    "    Labels = Labels.squeeze()\n",
    "    print(Labels.shape)"
   ]
  },
  {
   "cell_type": "code",
   "execution_count": 3,
   "id": "f7469cf7",
   "metadata": {},
   "outputs": [
    {
     "data": {
      "text/plain": [
       "(128, 112, 18)"
      ]
     },
     "execution_count": 3,
     "metadata": {},
     "output_type": "execute_result"
    }
   ],
   "source": [
    "Dataset.shape"
   ]
  },
  {
   "cell_type": "code",
   "execution_count": 4,
   "id": "37d49ddc",
   "metadata": {},
   "outputs": [],
   "source": [
    "def DTW_custom_metric(Dataset):\n",
    "    distance_matrix = np.zeros((Dataset.shape[0], Dataset.shape[0]))\n",
    "    for i in range(Dataset.shape[0]):\n",
    "        for j in range(i, Dataset.shape[0]):\n",
    "            distance = 0\n",
    "            for m in range(Dataset.shape[-1]):\n",
    "                dist = pyts.metrics.dtw(x=Dataset[i,:,m], y=Dataset[j,:,m],dist='square', method='sakoechiba')\n",
    "                distance += dist\n",
    "            distance_matrix[i,j] = distance\n",
    "            distance_matrix[j, i] = distance\n",
    "    return distance_matrix"
   ]
  },
  {
   "cell_type": "code",
   "execution_count": 5,
   "id": "f21f58d6",
   "metadata": {},
   "outputs": [
    {
     "data": {
      "text/plain": [
       "((102, 112, 18), (26, 112, 18), (102,), (26,))"
      ]
     },
     "execution_count": 5,
     "metadata": {},
     "output_type": "execute_result"
    }
   ],
   "source": [
    "##Generate the initial training and test sets to feed to the model\n",
    "from sklearn.model_selection import train_test_split\n",
    "\n",
    "X_train, X_test, y_train, y_test = train_test_split(Dataset, Labels, train_size=0.8 ,shuffle=True)\n",
    "X_train.shape, X_test.shape, y_train.shape, y_test.shape"
   ]
  },
  {
   "cell_type": "code",
   "execution_count": 13,
   "id": "aa269382",
   "metadata": {},
   "outputs": [
    {
     "data": {
      "text/plain": [
       "(102, 102)"
      ]
     },
     "execution_count": 13,
     "metadata": {},
     "output_type": "execute_result"
    }
   ],
   "source": [
    "dist_matrix = DTW_custom_metric(X_train)\n",
    "dist_matrix.shape"
   ]
  },
  {
   "cell_type": "code",
   "execution_count": 14,
   "id": "3f657125",
   "metadata": {},
   "outputs": [
    {
     "data": {
      "text/plain": [
       "array([  0.        , 202.87044143, 195.40514895, 212.58156802,\n",
       "       231.29625705, 213.30773571, 214.43862927, 221.49433079,\n",
       "       208.46448301, 201.16721328, 195.92355938, 215.77428544,\n",
       "       222.57585791, 200.93101317, 213.69192977, 224.80594355,\n",
       "       214.38815413, 202.77206179, 194.47913693, 197.32916478,\n",
       "       207.34859016, 201.13513128, 216.53504756, 227.69726313,\n",
       "       206.38948338, 206.54669401, 211.02317708, 209.89683548,\n",
       "       218.35910383, 218.22109351, 201.49380062, 210.80108617,\n",
       "       210.96514021, 219.14264568, 203.21187618, 218.22112246,\n",
       "       211.55364397, 218.32170613, 196.02042897, 207.76249232,\n",
       "       208.36400973, 212.29638287, 203.16306675, 198.07068384,\n",
       "       186.41978487, 220.7000055 , 192.28975435, 218.58839042,\n",
       "       190.65897525, 217.97174066, 198.160864  , 227.30594213,\n",
       "       201.01918365, 213.82320064, 215.64636411, 204.38253697,\n",
       "       199.4629857 , 196.37367017, 206.9817541 , 225.69208128,\n",
       "       200.85041656, 220.12172339, 215.7327246 , 211.65857694,\n",
       "       208.77675068, 262.52403458, 211.53210856, 220.20184723,\n",
       "       207.93223303, 227.67990959, 205.24514827, 234.77208877,\n",
       "       232.76374959, 194.82580854, 211.81742097, 195.22718247,\n",
       "       199.28001683, 213.13929827, 212.29487736, 221.4701094 ,\n",
       "       190.03026476, 197.34091781, 220.1882233 , 216.71707208,\n",
       "       207.96853377, 204.96203585, 196.31461554, 183.04138895,\n",
       "       204.86108649, 224.26696974, 217.75657375, 194.72807277,\n",
       "       227.43497187, 202.94481475, 215.84387874, 208.20296303,\n",
       "       210.15672183, 220.0922661 , 207.76212255, 201.11686866,\n",
       "       202.00586973, 211.33759283])"
      ]
     },
     "execution_count": 14,
     "metadata": {},
     "output_type": "execute_result"
    }
   ],
   "source": [
    "dist_matrix[0]"
   ]
  },
  {
   "cell_type": "code",
   "execution_count": 15,
   "id": "1e8d80bc",
   "metadata": {},
   "outputs": [],
   "source": [
    "from sklearn.neighbors import KNeighborsClassifier\n",
    "classifier = KNeighborsClassifier(n_neighbors=1, metric='precomputed')"
   ]
  },
  {
   "cell_type": "code",
   "execution_count": 17,
   "id": "70a44058",
   "metadata": {},
   "outputs": [
    {
     "data": {
      "text/html": [
       "<style>#sk-container-id-1 {color: black;background-color: white;}#sk-container-id-1 pre{padding: 0;}#sk-container-id-1 div.sk-toggleable {background-color: white;}#sk-container-id-1 label.sk-toggleable__label {cursor: pointer;display: block;width: 100%;margin-bottom: 0;padding: 0.3em;box-sizing: border-box;text-align: center;}#sk-container-id-1 label.sk-toggleable__label-arrow:before {content: \"▸\";float: left;margin-right: 0.25em;color: #696969;}#sk-container-id-1 label.sk-toggleable__label-arrow:hover:before {color: black;}#sk-container-id-1 div.sk-estimator:hover label.sk-toggleable__label-arrow:before {color: black;}#sk-container-id-1 div.sk-toggleable__content {max-height: 0;max-width: 0;overflow: hidden;text-align: left;background-color: #f0f8ff;}#sk-container-id-1 div.sk-toggleable__content pre {margin: 0.2em;color: black;border-radius: 0.25em;background-color: #f0f8ff;}#sk-container-id-1 input.sk-toggleable__control:checked~div.sk-toggleable__content {max-height: 200px;max-width: 100%;overflow: auto;}#sk-container-id-1 input.sk-toggleable__control:checked~label.sk-toggleable__label-arrow:before {content: \"▾\";}#sk-container-id-1 div.sk-estimator input.sk-toggleable__control:checked~label.sk-toggleable__label {background-color: #d4ebff;}#sk-container-id-1 div.sk-label input.sk-toggleable__control:checked~label.sk-toggleable__label {background-color: #d4ebff;}#sk-container-id-1 input.sk-hidden--visually {border: 0;clip: rect(1px 1px 1px 1px);clip: rect(1px, 1px, 1px, 1px);height: 1px;margin: -1px;overflow: hidden;padding: 0;position: absolute;width: 1px;}#sk-container-id-1 div.sk-estimator {font-family: monospace;background-color: #f0f8ff;border: 1px dotted black;border-radius: 0.25em;box-sizing: border-box;margin-bottom: 0.5em;}#sk-container-id-1 div.sk-estimator:hover {background-color: #d4ebff;}#sk-container-id-1 div.sk-parallel-item::after {content: \"\";width: 100%;border-bottom: 1px solid gray;flex-grow: 1;}#sk-container-id-1 div.sk-label:hover label.sk-toggleable__label {background-color: #d4ebff;}#sk-container-id-1 div.sk-serial::before {content: \"\";position: absolute;border-left: 1px solid gray;box-sizing: border-box;top: 0;bottom: 0;left: 50%;z-index: 0;}#sk-container-id-1 div.sk-serial {display: flex;flex-direction: column;align-items: center;background-color: white;padding-right: 0.2em;padding-left: 0.2em;position: relative;}#sk-container-id-1 div.sk-item {position: relative;z-index: 1;}#sk-container-id-1 div.sk-parallel {display: flex;align-items: stretch;justify-content: center;background-color: white;position: relative;}#sk-container-id-1 div.sk-item::before, #sk-container-id-1 div.sk-parallel-item::before {content: \"\";position: absolute;border-left: 1px solid gray;box-sizing: border-box;top: 0;bottom: 0;left: 50%;z-index: -1;}#sk-container-id-1 div.sk-parallel-item {display: flex;flex-direction: column;z-index: 1;position: relative;background-color: white;}#sk-container-id-1 div.sk-parallel-item:first-child::after {align-self: flex-end;width: 50%;}#sk-container-id-1 div.sk-parallel-item:last-child::after {align-self: flex-start;width: 50%;}#sk-container-id-1 div.sk-parallel-item:only-child::after {width: 0;}#sk-container-id-1 div.sk-dashed-wrapped {border: 1px dashed gray;margin: 0 0.4em 0.5em 0.4em;box-sizing: border-box;padding-bottom: 0.4em;background-color: white;}#sk-container-id-1 div.sk-label label {font-family: monospace;font-weight: bold;display: inline-block;line-height: 1.2em;}#sk-container-id-1 div.sk-label-container {text-align: center;}#sk-container-id-1 div.sk-container {/* jupyter's `normalize.less` sets `[hidden] { display: none; }` but bootstrap.min.css set `[hidden] { display: none !important; }` so we also need the `!important` here to be able to override the default hidden behavior on the sphinx rendered scikit-learn.org. See: https://github.com/scikit-learn/scikit-learn/issues/21755 */display: inline-block !important;position: relative;}#sk-container-id-1 div.sk-text-repr-fallback {display: none;}</style><div id=\"sk-container-id-1\" class=\"sk-top-container\"><div class=\"sk-text-repr-fallback\"><pre>KNeighborsClassifier(metric=&#x27;precomputed&#x27;, n_neighbors=1)</pre><b>In a Jupyter environment, please rerun this cell to show the HTML representation or trust the notebook. <br />On GitHub, the HTML representation is unable to render, please try loading this page with nbviewer.org.</b></div><div class=\"sk-container\" hidden><div class=\"sk-item\"><div class=\"sk-estimator sk-toggleable\"><input class=\"sk-toggleable__control sk-hidden--visually\" id=\"sk-estimator-id-1\" type=\"checkbox\" checked><label for=\"sk-estimator-id-1\" class=\"sk-toggleable__label sk-toggleable__label-arrow\">KNeighborsClassifier</label><div class=\"sk-toggleable__content\"><pre>KNeighborsClassifier(metric=&#x27;precomputed&#x27;, n_neighbors=1)</pre></div></div></div></div></div>"
      ],
      "text/plain": [
       "KNeighborsClassifier(metric='precomputed', n_neighbors=1)"
      ]
     },
     "execution_count": 17,
     "metadata": {},
     "output_type": "execute_result"
    }
   ],
   "source": [
    "classifier.fit(DTW_custom_metric(X_train), y_train)"
   ]
  },
  {
   "cell_type": "code",
   "execution_count": 26,
   "id": "aa1f171f",
   "metadata": {},
   "outputs": [],
   "source": [
    "def DTW_test_distance(X_test, X_train):\n",
    "    distance_matrix = np.zeros((X_test.shape[0], X_train.shape[0]))\n",
    "    for i in range(X_test.shape[0]):\n",
    "        for j in range(X_train.shape[0]):\n",
    "            distance = 0\n",
    "            for m in range(X_test.shape[-1]):\n",
    "                dist = pyts.metrics.dtw(x=X_test[i,:,m], y=X_train[j,:,m],dist='square', method='fast')\n",
    "                distance += dist\n",
    "            distance_matrix[i,j] = distance\n",
    "    return distance_matrix"
   ]
  },
  {
   "cell_type": "code",
   "execution_count": 27,
   "id": "6e5467d0",
   "metadata": {},
   "outputs": [
    {
     "data": {
      "text/plain": [
       "array([0., 0., 0., 0., 0., 0., 0., 0., 0., 0., 0., 0., 0., 0., 0., 0., 0.,\n",
       "       0., 0., 0., 0., 0., 0., 0., 0., 0.])"
      ]
     },
     "execution_count": 27,
     "metadata": {},
     "output_type": "execute_result"
    }
   ],
   "source": [
    "y_pred = classifier.predict(DTW_test_distance(X_test, X_train))\n",
    "y_pred"
   ]
  },
  {
   "cell_type": "code",
   "execution_count": 28,
   "id": "9cae78de",
   "metadata": {},
   "outputs": [
    {
     "data": {
      "text/plain": [
       "(26,)"
      ]
     },
     "execution_count": 28,
     "metadata": {},
     "output_type": "execute_result"
    }
   ],
   "source": [
    "y_pred.shape"
   ]
  },
  {
   "cell_type": "code",
   "execution_count": 29,
   "id": "9d7b8591",
   "metadata": {},
   "outputs": [
    {
     "data": {
      "text/plain": [
       "array([0., 1., 0., 0., 0., 0., 0., 0., 0., 0., 0., 1., 0., 0., 0., 0., 1.,\n",
       "       0., 0., 0., 0., 0., 1., 0., 1., 0.])"
      ]
     },
     "execution_count": 29,
     "metadata": {},
     "output_type": "execute_result"
    }
   ],
   "source": [
    "y_test"
   ]
  },
  {
   "cell_type": "code",
   "execution_count": 30,
   "id": "4bfc31fd",
   "metadata": {},
   "outputs": [
    {
     "name": "stdout",
     "output_type": "stream",
     "text": [
      "0.8076923076923077\n"
     ]
    }
   ],
   "source": [
    "from sklearn.metrics import accuracy_score\n",
    "accuracy = accuracy_score(y_test, y_pred)\n",
    "print(accuracy)"
   ]
  },
  {
   "cell_type": "code",
   "execution_count": 22,
   "id": "b0ce68d0",
   "metadata": {},
   "outputs": [
    {
     "data": {
      "text/plain": [
       "(26,)"
      ]
     },
     "execution_count": 22,
     "metadata": {},
     "output_type": "execute_result"
    }
   ],
   "source": [
    "y_test.shape"
   ]
  },
  {
   "cell_type": "code",
   "execution_count": null,
   "id": "3d0a793b",
   "metadata": {},
   "outputs": [],
   "source": [
    "dist = DTW_custom_metric(X1=Dataset[0,:,:], X2=Dataset[1,:,:])\n",
    "dist"
   ]
  },
  {
   "cell_type": "code",
   "execution_count": null,
   "id": "76847ef6",
   "metadata": {},
   "outputs": [],
   "source": [
    "dist1 = dtw(x=Dataset[0,:,0], y=Dataset[1,:,0],\n",
    "           dist='square', method='classic', return_cost=True)\n",
    "dist1"
   ]
  },
  {
   "cell_type": "code",
   "execution_count": null,
   "id": "4f881c43",
   "metadata": {},
   "outputs": [],
   "source": []
  },
  {
   "cell_type": "code",
   "execution_count": null,
   "id": "e6a92958",
   "metadata": {},
   "outputs": [],
   "source": []
  }
 ],
 "metadata": {
  "kernelspec": {
   "display_name": "Python 3",
   "language": "python",
   "name": "python3"
  },
  "language_info": {
   "codemirror_mode": {
    "name": "ipython",
    "version": 3
   },
   "file_extension": ".py",
   "mimetype": "text/x-python",
   "name": "python",
   "nbconvert_exporter": "python",
   "pygments_lexer": "ipython3",
   "version": "3.9.16"
  }
 },
 "nbformat": 4,
 "nbformat_minor": 5
}
