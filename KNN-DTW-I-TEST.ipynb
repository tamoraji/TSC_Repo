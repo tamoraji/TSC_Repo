{
 "cells": [
  {
   "cell_type": "code",
   "execution_count": null,
   "id": "cc48492d",
   "metadata": {},
   "outputs": [],
   "source": [
    "#pip install pyts"
   ]
  },
  {
   "cell_type": "code",
   "execution_count": null,
   "id": "76cd8deb",
   "metadata": {},
   "outputs": [],
   "source": [
    "#pip install sktime"
   ]
  },
  {
   "cell_type": "code",
   "execution_count": 8,
   "id": "63436f48",
   "metadata": {},
   "outputs": [],
   "source": [
    "import numpy as np\n",
    "import pyts\n",
    "from pyts.metrics import dtw\n",
    "import sklearn"
   ]
  },
  {
   "cell_type": "code",
   "execution_count": 24,
   "id": "6c620013",
   "metadata": {},
   "outputs": [
    {
     "name": "stdout",
     "output_type": "stream",
     "text": [
      "(128, 112, 18)\n",
      "(128,)\n"
     ]
    }
   ],
   "source": [
    "datasets = [\n",
    "\"ETCHING_Multivar\",\n",
    "]\n",
    "\n",
    "datasets_path = \"../datasets\"\n",
    "\n",
    "for dataset in datasets:\n",
    "    Dataset_name = dataset + \"_Dataset\"\n",
    "    Dataset = np.load(datasets_path + \"/\" + Dataset_name + \".npy\")\n",
    "    Dataset = Dataset\n",
    "    print(Dataset.shape)\n",
    "    \n",
    "    Labels_name = dataset + \"_Labels\"\n",
    "    Labels = np.load(datasets_path + \"/\"  + Labels_name + \".npy\")\n",
    "    Labels = Labels.squeeze()\n",
    "    print(Labels.shape)"
   ]
  },
  {
   "cell_type": "code",
   "execution_count": 25,
   "id": "f7469cf7",
   "metadata": {},
   "outputs": [
    {
     "data": {
      "text/plain": [
       "(128, 112, 18)"
      ]
     },
     "execution_count": 25,
     "metadata": {},
     "output_type": "execute_result"
    }
   ],
   "source": [
    "Dataset.shape"
   ]
  },
  {
   "cell_type": "code",
   "execution_count": 26,
   "id": "058a1089",
   "metadata": {},
   "outputs": [],
   "source": [
    "Dataset1 = Dataset[:,:,0].copy()"
   ]
  },
  {
   "cell_type": "code",
   "execution_count": 27,
   "id": "cdc4a9f2",
   "metadata": {},
   "outputs": [
    {
     "data": {
      "text/plain": [
       "(128, 112)"
      ]
     },
     "execution_count": 27,
     "metadata": {},
     "output_type": "execute_result"
    }
   ],
   "source": [
    "Dataset1.shape"
   ]
  },
  {
   "cell_type": "code",
   "execution_count": 28,
   "id": "f21f58d6",
   "metadata": {},
   "outputs": [
    {
     "data": {
      "text/plain": [
       "((102, 112), (26, 112), (102,), (26,))"
      ]
     },
     "execution_count": 28,
     "metadata": {},
     "output_type": "execute_result"
    }
   ],
   "source": [
    "##Generate the initial training and test sets to feed to the model\n",
    "from sklearn.model_selection import train_test_split\n",
    "\n",
    "X_train, X_test, y_train, y_test = train_test_split(Dataset1, Labels, train_size=0.8 ,shuffle=True, random_state=123)\n",
    "X_train.shape, X_test.shape, y_train.shape, y_test.shape"
   ]
  },
  {
   "cell_type": "markdown",
   "id": "2083cc3c",
   "metadata": {},
   "source": [
    "## Run the normal DTW on the first dimension"
   ]
  },
  {
   "cell_type": "code",
   "execution_count": 29,
   "id": "78efab62",
   "metadata": {},
   "outputs": [],
   "source": [
    "from sktime.classification.distance_based import KNeighborsTimeSeriesClassifier\n",
    "classifier = KNeighborsTimeSeriesClassifier(distance= 'dtw', n_jobs=10)"
   ]
  },
  {
   "cell_type": "code",
   "execution_count": 30,
   "id": "98264a03",
   "metadata": {},
   "outputs": [
    {
     "data": {
      "text/html": [
       "<style>#sk-fed92968-f9ff-45ba-b650-cb99c481a622 {color: black;background-color: white;}#sk-fed92968-f9ff-45ba-b650-cb99c481a622 pre{padding: 0;}#sk-fed92968-f9ff-45ba-b650-cb99c481a622 div.sk-toggleable {background-color: white;}#sk-fed92968-f9ff-45ba-b650-cb99c481a622 label.sk-toggleable__label {cursor: pointer;display: block;width: 100%;margin-bottom: 0;padding: 0.3em;box-sizing: border-box;text-align: center;}#sk-fed92968-f9ff-45ba-b650-cb99c481a622 label.sk-toggleable__label-arrow:before {content: \"▸\";float: left;margin-right: 0.25em;color: #696969;}#sk-fed92968-f9ff-45ba-b650-cb99c481a622 label.sk-toggleable__label-arrow:hover:before {color: black;}#sk-fed92968-f9ff-45ba-b650-cb99c481a622 div.sk-estimator:hover label.sk-toggleable__label-arrow:before {color: black;}#sk-fed92968-f9ff-45ba-b650-cb99c481a622 div.sk-toggleable__content {max-height: 0;max-width: 0;overflow: hidden;text-align: left;background-color: #f0f8ff;}#sk-fed92968-f9ff-45ba-b650-cb99c481a622 div.sk-toggleable__content pre {margin: 0.2em;color: black;border-radius: 0.25em;background-color: #f0f8ff;}#sk-fed92968-f9ff-45ba-b650-cb99c481a622 input.sk-toggleable__control:checked~div.sk-toggleable__content {max-height: 200px;max-width: 100%;overflow: auto;}#sk-fed92968-f9ff-45ba-b650-cb99c481a622 input.sk-toggleable__control:checked~label.sk-toggleable__label-arrow:before {content: \"▾\";}#sk-fed92968-f9ff-45ba-b650-cb99c481a622 div.sk-estimator input.sk-toggleable__control:checked~label.sk-toggleable__label {background-color: #d4ebff;}#sk-fed92968-f9ff-45ba-b650-cb99c481a622 div.sk-label input.sk-toggleable__control:checked~label.sk-toggleable__label {background-color: #d4ebff;}#sk-fed92968-f9ff-45ba-b650-cb99c481a622 input.sk-hidden--visually {border: 0;clip: rect(1px 1px 1px 1px);clip: rect(1px, 1px, 1px, 1px);height: 1px;margin: -1px;overflow: hidden;padding: 0;position: absolute;width: 1px;}#sk-fed92968-f9ff-45ba-b650-cb99c481a622 div.sk-estimator {font-family: monospace;background-color: #f0f8ff;border: 1px dotted black;border-radius: 0.25em;box-sizing: border-box;margin-bottom: 0.5em;}#sk-fed92968-f9ff-45ba-b650-cb99c481a622 div.sk-estimator:hover {background-color: #d4ebff;}#sk-fed92968-f9ff-45ba-b650-cb99c481a622 div.sk-parallel-item::after {content: \"\";width: 100%;border-bottom: 1px solid gray;flex-grow: 1;}#sk-fed92968-f9ff-45ba-b650-cb99c481a622 div.sk-label:hover label.sk-toggleable__label {background-color: #d4ebff;}#sk-fed92968-f9ff-45ba-b650-cb99c481a622 div.sk-serial::before {content: \"\";position: absolute;border-left: 1px solid gray;box-sizing: border-box;top: 2em;bottom: 0;left: 50%;}#sk-fed92968-f9ff-45ba-b650-cb99c481a622 div.sk-serial {display: flex;flex-direction: column;align-items: center;background-color: white;padding-right: 0.2em;padding-left: 0.2em;}#sk-fed92968-f9ff-45ba-b650-cb99c481a622 div.sk-item {z-index: 1;}#sk-fed92968-f9ff-45ba-b650-cb99c481a622 div.sk-parallel {display: flex;align-items: stretch;justify-content: center;background-color: white;}#sk-fed92968-f9ff-45ba-b650-cb99c481a622 div.sk-parallel::before {content: \"\";position: absolute;border-left: 1px solid gray;box-sizing: border-box;top: 2em;bottom: 0;left: 50%;}#sk-fed92968-f9ff-45ba-b650-cb99c481a622 div.sk-parallel-item {display: flex;flex-direction: column;position: relative;background-color: white;}#sk-fed92968-f9ff-45ba-b650-cb99c481a622 div.sk-parallel-item:first-child::after {align-self: flex-end;width: 50%;}#sk-fed92968-f9ff-45ba-b650-cb99c481a622 div.sk-parallel-item:last-child::after {align-self: flex-start;width: 50%;}#sk-fed92968-f9ff-45ba-b650-cb99c481a622 div.sk-parallel-item:only-child::after {width: 0;}#sk-fed92968-f9ff-45ba-b650-cb99c481a622 div.sk-dashed-wrapped {border: 1px dashed gray;margin: 0 0.4em 0.5em 0.4em;box-sizing: border-box;padding-bottom: 0.4em;background-color: white;position: relative;}#sk-fed92968-f9ff-45ba-b650-cb99c481a622 div.sk-label label {font-family: monospace;font-weight: bold;background-color: white;display: inline-block;line-height: 1.2em;}#sk-fed92968-f9ff-45ba-b650-cb99c481a622 div.sk-label-container {position: relative;z-index: 2;text-align: center;}#sk-fed92968-f9ff-45ba-b650-cb99c481a622 div.sk-container {/* jupyter's `normalize.less` sets `[hidden] { display: none; }` but bootstrap.min.css set `[hidden] { display: none !important; }` so we also need the `!important` here to be able to override the default hidden behavior on the sphinx rendered scikit-learn.org. See: https://github.com/scikit-learn/scikit-learn/issues/21755 */display: inline-block !important;position: relative;}#sk-fed92968-f9ff-45ba-b650-cb99c481a622 div.sk-text-repr-fallback {display: none;}</style><div id='sk-fed92968-f9ff-45ba-b650-cb99c481a622' class=\"sk-top-container\"><div class=\"sk-text-repr-fallback\"><pre>KNeighborsTimeSeriesClassifier(n_jobs=10)</pre><b>Please rerun this cell to show the HTML repr or trust the notebook.</b></div><div class=\"sk-container\" hidden><div class='sk-item'><div class=\"sk-estimator sk-toggleable\"><input class=\"sk-toggleable__control sk-hidden--visually\" id=UUID('3f1dc2dc-9552-4c32-bf4b-d71a56ff55df') type=\"checkbox\" checked><label for=UUID('3f1dc2dc-9552-4c32-bf4b-d71a56ff55df') class='sk-toggleable__label sk-toggleable__label-arrow'>KNeighborsTimeSeriesClassifier</label><div class=\"sk-toggleable__content\"><pre>KNeighborsTimeSeriesClassifier(n_jobs=10)</pre></div></div></div></div></div>"
      ],
      "text/plain": [
       "KNeighborsTimeSeriesClassifier(n_jobs=10)"
      ]
     },
     "execution_count": 30,
     "metadata": {},
     "output_type": "execute_result"
    }
   ],
   "source": [
    "classifier.fit(X_train, y_train)"
   ]
  },
  {
   "cell_type": "code",
   "execution_count": 31,
   "id": "defeb2fd",
   "metadata": {},
   "outputs": [
    {
     "name": "stdout",
     "output_type": "stream",
     "text": [
      "Test Accuracy:0.77\n"
     ]
    }
   ],
   "source": [
    "print(\"Test Accuracy:{:.2f}\".format(classifier.score(X_test, y_test)))"
   ]
  },
  {
   "cell_type": "markdown",
   "id": "3cb8d44f",
   "metadata": {},
   "source": [
    "## Run the DTW-I on the all dimensions"
   ]
  },
  {
   "cell_type": "code",
   "execution_count": 33,
   "id": "f72556dd",
   "metadata": {},
   "outputs": [
    {
     "data": {
      "text/plain": [
       "((102, 112, 18), (26, 112, 18), (102,), (26,))"
      ]
     },
     "execution_count": 33,
     "metadata": {},
     "output_type": "execute_result"
    }
   ],
   "source": [
    "X_train, X_test, y_train, y_test = train_test_split(Dataset, Labels, train_size=0.8 ,shuffle=True, random_state=123)\n",
    "X_train.shape, X_test.shape, y_train.shape, y_test.shape"
   ]
  },
  {
   "cell_type": "code",
   "execution_count": 34,
   "id": "37d49ddc",
   "metadata": {},
   "outputs": [],
   "source": [
    "def DTW_custom_metric(Dataset):\n",
    "    distance_matrix = np.zeros((Dataset.shape[0], Dataset.shape[0]))\n",
    "    for i in range(Dataset.shape[0]):\n",
    "        for j in range(i, Dataset.shape[0]):\n",
    "            distance = 0\n",
    "            for m in range(Dataset.shape[-1]):\n",
    "                dist = pyts.metrics.dtw(x=Dataset[i,:,m], y=Dataset[j,:,m],dist='square', method='sakoechiba')\n",
    "                distance += dist\n",
    "            distance_matrix[i,j] = distance\n",
    "            distance_matrix[j, i] = distance\n",
    "    return distance_matrix"
   ]
  },
  {
   "cell_type": "code",
   "execution_count": 35,
   "id": "aa269382",
   "metadata": {},
   "outputs": [
    {
     "data": {
      "text/plain": [
       "(102, 102)"
      ]
     },
     "execution_count": 35,
     "metadata": {},
     "output_type": "execute_result"
    }
   ],
   "source": [
    "dist_matrix = DTW_custom_metric(X_train)\n",
    "dist_matrix.shape"
   ]
  },
  {
   "cell_type": "code",
   "execution_count": 36,
   "id": "1e8d80bc",
   "metadata": {},
   "outputs": [],
   "source": [
    "from sklearn.neighbors import KNeighborsClassifier\n",
    "classifier = KNeighborsClassifier(n_neighbors=1, metric='precomputed')"
   ]
  },
  {
   "cell_type": "code",
   "execution_count": 37,
   "id": "70a44058",
   "metadata": {},
   "outputs": [
    {
     "data": {
      "text/html": [
       "<style>#sk-container-id-1 {color: black;background-color: white;}#sk-container-id-1 pre{padding: 0;}#sk-container-id-1 div.sk-toggleable {background-color: white;}#sk-container-id-1 label.sk-toggleable__label {cursor: pointer;display: block;width: 100%;margin-bottom: 0;padding: 0.3em;box-sizing: border-box;text-align: center;}#sk-container-id-1 label.sk-toggleable__label-arrow:before {content: \"▸\";float: left;margin-right: 0.25em;color: #696969;}#sk-container-id-1 label.sk-toggleable__label-arrow:hover:before {color: black;}#sk-container-id-1 div.sk-estimator:hover label.sk-toggleable__label-arrow:before {color: black;}#sk-container-id-1 div.sk-toggleable__content {max-height: 0;max-width: 0;overflow: hidden;text-align: left;background-color: #f0f8ff;}#sk-container-id-1 div.sk-toggleable__content pre {margin: 0.2em;color: black;border-radius: 0.25em;background-color: #f0f8ff;}#sk-container-id-1 input.sk-toggleable__control:checked~div.sk-toggleable__content {max-height: 200px;max-width: 100%;overflow: auto;}#sk-container-id-1 input.sk-toggleable__control:checked~label.sk-toggleable__label-arrow:before {content: \"▾\";}#sk-container-id-1 div.sk-estimator input.sk-toggleable__control:checked~label.sk-toggleable__label {background-color: #d4ebff;}#sk-container-id-1 div.sk-label input.sk-toggleable__control:checked~label.sk-toggleable__label {background-color: #d4ebff;}#sk-container-id-1 input.sk-hidden--visually {border: 0;clip: rect(1px 1px 1px 1px);clip: rect(1px, 1px, 1px, 1px);height: 1px;margin: -1px;overflow: hidden;padding: 0;position: absolute;width: 1px;}#sk-container-id-1 div.sk-estimator {font-family: monospace;background-color: #f0f8ff;border: 1px dotted black;border-radius: 0.25em;box-sizing: border-box;margin-bottom: 0.5em;}#sk-container-id-1 div.sk-estimator:hover {background-color: #d4ebff;}#sk-container-id-1 div.sk-parallel-item::after {content: \"\";width: 100%;border-bottom: 1px solid gray;flex-grow: 1;}#sk-container-id-1 div.sk-label:hover label.sk-toggleable__label {background-color: #d4ebff;}#sk-container-id-1 div.sk-serial::before {content: \"\";position: absolute;border-left: 1px solid gray;box-sizing: border-box;top: 0;bottom: 0;left: 50%;z-index: 0;}#sk-container-id-1 div.sk-serial {display: flex;flex-direction: column;align-items: center;background-color: white;padding-right: 0.2em;padding-left: 0.2em;position: relative;}#sk-container-id-1 div.sk-item {position: relative;z-index: 1;}#sk-container-id-1 div.sk-parallel {display: flex;align-items: stretch;justify-content: center;background-color: white;position: relative;}#sk-container-id-1 div.sk-item::before, #sk-container-id-1 div.sk-parallel-item::before {content: \"\";position: absolute;border-left: 1px solid gray;box-sizing: border-box;top: 0;bottom: 0;left: 50%;z-index: -1;}#sk-container-id-1 div.sk-parallel-item {display: flex;flex-direction: column;z-index: 1;position: relative;background-color: white;}#sk-container-id-1 div.sk-parallel-item:first-child::after {align-self: flex-end;width: 50%;}#sk-container-id-1 div.sk-parallel-item:last-child::after {align-self: flex-start;width: 50%;}#sk-container-id-1 div.sk-parallel-item:only-child::after {width: 0;}#sk-container-id-1 div.sk-dashed-wrapped {border: 1px dashed gray;margin: 0 0.4em 0.5em 0.4em;box-sizing: border-box;padding-bottom: 0.4em;background-color: white;}#sk-container-id-1 div.sk-label label {font-family: monospace;font-weight: bold;display: inline-block;line-height: 1.2em;}#sk-container-id-1 div.sk-label-container {text-align: center;}#sk-container-id-1 div.sk-container {/* jupyter's `normalize.less` sets `[hidden] { display: none; }` but bootstrap.min.css set `[hidden] { display: none !important; }` so we also need the `!important` here to be able to override the default hidden behavior on the sphinx rendered scikit-learn.org. See: https://github.com/scikit-learn/scikit-learn/issues/21755 */display: inline-block !important;position: relative;}#sk-container-id-1 div.sk-text-repr-fallback {display: none;}</style><div id=\"sk-container-id-1\" class=\"sk-top-container\"><div class=\"sk-text-repr-fallback\"><pre>KNeighborsClassifier(metric=&#x27;precomputed&#x27;, n_neighbors=1)</pre><b>In a Jupyter environment, please rerun this cell to show the HTML representation or trust the notebook. <br />On GitHub, the HTML representation is unable to render, please try loading this page with nbviewer.org.</b></div><div class=\"sk-container\" hidden><div class=\"sk-item\"><div class=\"sk-estimator sk-toggleable\"><input class=\"sk-toggleable__control sk-hidden--visually\" id=\"sk-estimator-id-1\" type=\"checkbox\" checked><label for=\"sk-estimator-id-1\" class=\"sk-toggleable__label sk-toggleable__label-arrow\">KNeighborsClassifier</label><div class=\"sk-toggleable__content\"><pre>KNeighborsClassifier(metric=&#x27;precomputed&#x27;, n_neighbors=1)</pre></div></div></div></div></div>"
      ],
      "text/plain": [
       "KNeighborsClassifier(metric='precomputed', n_neighbors=1)"
      ]
     },
     "execution_count": 37,
     "metadata": {},
     "output_type": "execute_result"
    }
   ],
   "source": [
    "classifier.fit(DTW_custom_metric(X_train), y_train)"
   ]
  },
  {
   "cell_type": "code",
   "execution_count": 38,
   "id": "aa1f171f",
   "metadata": {},
   "outputs": [],
   "source": [
    "def DTW_test_distance(X_test, X_train):\n",
    "    distance_matrix = np.zeros((X_test.shape[0], X_train.shape[0]))\n",
    "    for i in range(X_test.shape[0]):\n",
    "        for j in range(X_train.shape[0]):\n",
    "            distance = 0\n",
    "            for m in range(X_test.shape[-1]):\n",
    "                dist = pyts.metrics.dtw(x=X_test[i,:,m], y=X_train[j,:,m],dist='square', method='fast')\n",
    "                distance += dist\n",
    "            distance_matrix[i,j] = distance\n",
    "    return distance_matrix"
   ]
  },
  {
   "cell_type": "code",
   "execution_count": 39,
   "id": "6e5467d0",
   "metadata": {},
   "outputs": [
    {
     "data": {
      "text/plain": [
       "(26,)"
      ]
     },
     "execution_count": 39,
     "metadata": {},
     "output_type": "execute_result"
    }
   ],
   "source": [
    "y_pred = classifier.predict(DTW_test_distance(X_test, X_train))\n",
    "y_pred.shape"
   ]
  },
  {
   "cell_type": "code",
   "execution_count": 40,
   "id": "4bfc31fd",
   "metadata": {},
   "outputs": [
    {
     "name": "stdout",
     "output_type": "stream",
     "text": [
      "0.9230769230769231\n"
     ]
    }
   ],
   "source": [
    "from sklearn.metrics import accuracy_score\n",
    "accuracy = accuracy_score(y_test, y_pred)\n",
    "print(accuracy)"
   ]
  },
  {
   "cell_type": "markdown",
   "id": "e52c12bc",
   "metadata": {},
   "source": [
    "## Run with multivariate capability of sktime"
   ]
  },
  {
   "cell_type": "code",
   "execution_count": 41,
   "id": "e109c677",
   "metadata": {},
   "outputs": [],
   "source": [
    "Dataset2 = np.swapaxes(Dataset, 1,2)"
   ]
  },
  {
   "cell_type": "code",
   "execution_count": 42,
   "id": "1ea487c4",
   "metadata": {},
   "outputs": [
    {
     "data": {
      "text/plain": [
       "((102, 18, 112), (26, 18, 112), (102,), (26,))"
      ]
     },
     "execution_count": 42,
     "metadata": {},
     "output_type": "execute_result"
    }
   ],
   "source": [
    "X_train, X_test, y_train, y_test = train_test_split(Dataset2, Labels, train_size=0.8 ,shuffle=True, random_state=123)\n",
    "X_train.shape, X_test.shape, y_train.shape, y_test.shape"
   ]
  },
  {
   "cell_type": "code",
   "execution_count": 43,
   "id": "42112543",
   "metadata": {},
   "outputs": [
    {
     "data": {
      "text/html": [
       "<style>#sk-fe9a46b8-7ce3-4064-ac98-d9c37410e45f {color: black;background-color: white;}#sk-fe9a46b8-7ce3-4064-ac98-d9c37410e45f pre{padding: 0;}#sk-fe9a46b8-7ce3-4064-ac98-d9c37410e45f div.sk-toggleable {background-color: white;}#sk-fe9a46b8-7ce3-4064-ac98-d9c37410e45f label.sk-toggleable__label {cursor: pointer;display: block;width: 100%;margin-bottom: 0;padding: 0.3em;box-sizing: border-box;text-align: center;}#sk-fe9a46b8-7ce3-4064-ac98-d9c37410e45f label.sk-toggleable__label-arrow:before {content: \"▸\";float: left;margin-right: 0.25em;color: #696969;}#sk-fe9a46b8-7ce3-4064-ac98-d9c37410e45f label.sk-toggleable__label-arrow:hover:before {color: black;}#sk-fe9a46b8-7ce3-4064-ac98-d9c37410e45f div.sk-estimator:hover label.sk-toggleable__label-arrow:before {color: black;}#sk-fe9a46b8-7ce3-4064-ac98-d9c37410e45f div.sk-toggleable__content {max-height: 0;max-width: 0;overflow: hidden;text-align: left;background-color: #f0f8ff;}#sk-fe9a46b8-7ce3-4064-ac98-d9c37410e45f div.sk-toggleable__content pre {margin: 0.2em;color: black;border-radius: 0.25em;background-color: #f0f8ff;}#sk-fe9a46b8-7ce3-4064-ac98-d9c37410e45f input.sk-toggleable__control:checked~div.sk-toggleable__content {max-height: 200px;max-width: 100%;overflow: auto;}#sk-fe9a46b8-7ce3-4064-ac98-d9c37410e45f input.sk-toggleable__control:checked~label.sk-toggleable__label-arrow:before {content: \"▾\";}#sk-fe9a46b8-7ce3-4064-ac98-d9c37410e45f div.sk-estimator input.sk-toggleable__control:checked~label.sk-toggleable__label {background-color: #d4ebff;}#sk-fe9a46b8-7ce3-4064-ac98-d9c37410e45f div.sk-label input.sk-toggleable__control:checked~label.sk-toggleable__label {background-color: #d4ebff;}#sk-fe9a46b8-7ce3-4064-ac98-d9c37410e45f input.sk-hidden--visually {border: 0;clip: rect(1px 1px 1px 1px);clip: rect(1px, 1px, 1px, 1px);height: 1px;margin: -1px;overflow: hidden;padding: 0;position: absolute;width: 1px;}#sk-fe9a46b8-7ce3-4064-ac98-d9c37410e45f div.sk-estimator {font-family: monospace;background-color: #f0f8ff;border: 1px dotted black;border-radius: 0.25em;box-sizing: border-box;margin-bottom: 0.5em;}#sk-fe9a46b8-7ce3-4064-ac98-d9c37410e45f div.sk-estimator:hover {background-color: #d4ebff;}#sk-fe9a46b8-7ce3-4064-ac98-d9c37410e45f div.sk-parallel-item::after {content: \"\";width: 100%;border-bottom: 1px solid gray;flex-grow: 1;}#sk-fe9a46b8-7ce3-4064-ac98-d9c37410e45f div.sk-label:hover label.sk-toggleable__label {background-color: #d4ebff;}#sk-fe9a46b8-7ce3-4064-ac98-d9c37410e45f div.sk-serial::before {content: \"\";position: absolute;border-left: 1px solid gray;box-sizing: border-box;top: 2em;bottom: 0;left: 50%;}#sk-fe9a46b8-7ce3-4064-ac98-d9c37410e45f div.sk-serial {display: flex;flex-direction: column;align-items: center;background-color: white;padding-right: 0.2em;padding-left: 0.2em;}#sk-fe9a46b8-7ce3-4064-ac98-d9c37410e45f div.sk-item {z-index: 1;}#sk-fe9a46b8-7ce3-4064-ac98-d9c37410e45f div.sk-parallel {display: flex;align-items: stretch;justify-content: center;background-color: white;}#sk-fe9a46b8-7ce3-4064-ac98-d9c37410e45f div.sk-parallel::before {content: \"\";position: absolute;border-left: 1px solid gray;box-sizing: border-box;top: 2em;bottom: 0;left: 50%;}#sk-fe9a46b8-7ce3-4064-ac98-d9c37410e45f div.sk-parallel-item {display: flex;flex-direction: column;position: relative;background-color: white;}#sk-fe9a46b8-7ce3-4064-ac98-d9c37410e45f div.sk-parallel-item:first-child::after {align-self: flex-end;width: 50%;}#sk-fe9a46b8-7ce3-4064-ac98-d9c37410e45f div.sk-parallel-item:last-child::after {align-self: flex-start;width: 50%;}#sk-fe9a46b8-7ce3-4064-ac98-d9c37410e45f div.sk-parallel-item:only-child::after {width: 0;}#sk-fe9a46b8-7ce3-4064-ac98-d9c37410e45f div.sk-dashed-wrapped {border: 1px dashed gray;margin: 0 0.4em 0.5em 0.4em;box-sizing: border-box;padding-bottom: 0.4em;background-color: white;position: relative;}#sk-fe9a46b8-7ce3-4064-ac98-d9c37410e45f div.sk-label label {font-family: monospace;font-weight: bold;background-color: white;display: inline-block;line-height: 1.2em;}#sk-fe9a46b8-7ce3-4064-ac98-d9c37410e45f div.sk-label-container {position: relative;z-index: 2;text-align: center;}#sk-fe9a46b8-7ce3-4064-ac98-d9c37410e45f div.sk-container {/* jupyter's `normalize.less` sets `[hidden] { display: none; }` but bootstrap.min.css set `[hidden] { display: none !important; }` so we also need the `!important` here to be able to override the default hidden behavior on the sphinx rendered scikit-learn.org. See: https://github.com/scikit-learn/scikit-learn/issues/21755 */display: inline-block !important;position: relative;}#sk-fe9a46b8-7ce3-4064-ac98-d9c37410e45f div.sk-text-repr-fallback {display: none;}</style><div id='sk-fe9a46b8-7ce3-4064-ac98-d9c37410e45f' class=\"sk-top-container\"><div class=\"sk-text-repr-fallback\"><pre>KNeighborsTimeSeriesClassifier(n_jobs=10)</pre><b>Please rerun this cell to show the HTML repr or trust the notebook.</b></div><div class=\"sk-container\" hidden><div class='sk-item'><div class=\"sk-estimator sk-toggleable\"><input class=\"sk-toggleable__control sk-hidden--visually\" id=UUID('ceb38290-eda1-4e0b-967d-d9bf018a729d') type=\"checkbox\" checked><label for=UUID('ceb38290-eda1-4e0b-967d-d9bf018a729d') class='sk-toggleable__label sk-toggleable__label-arrow'>KNeighborsTimeSeriesClassifier</label><div class=\"sk-toggleable__content\"><pre>KNeighborsTimeSeriesClassifier(n_jobs=10)</pre></div></div></div></div></div>"
      ],
      "text/plain": [
       "KNeighborsTimeSeriesClassifier(n_jobs=10)"
      ]
     },
     "execution_count": 43,
     "metadata": {},
     "output_type": "execute_result"
    }
   ],
   "source": [
    "from sktime.classification.distance_based import KNeighborsTimeSeriesClassifier\n",
    "classifier = KNeighborsTimeSeriesClassifier(distance= 'dtw', n_jobs=10)\n",
    "classifier.fit(X_train, y_train)"
   ]
  },
  {
   "cell_type": "code",
   "execution_count": 44,
   "id": "ccc10e3c",
   "metadata": {},
   "outputs": [
    {
     "name": "stdout",
     "output_type": "stream",
     "text": [
      "Test Accuracy:0.92\n"
     ]
    }
   ],
   "source": [
    "print(\"Test Accuracy:{:.2f}\".format(classifier.score(X_test, y_test)))"
   ]
  },
  {
   "cell_type": "markdown",
   "id": "022759af",
   "metadata": {},
   "source": [
    "## TWE"
   ]
  },
  {
   "cell_type": "code",
   "execution_count": 45,
   "id": "d07db2b4",
   "metadata": {},
   "outputs": [
    {
     "data": {
      "text/html": [
       "<style>#sk-0d1f6c3c-f781-47e9-9f27-98f22670d5c0 {color: black;background-color: white;}#sk-0d1f6c3c-f781-47e9-9f27-98f22670d5c0 pre{padding: 0;}#sk-0d1f6c3c-f781-47e9-9f27-98f22670d5c0 div.sk-toggleable {background-color: white;}#sk-0d1f6c3c-f781-47e9-9f27-98f22670d5c0 label.sk-toggleable__label {cursor: pointer;display: block;width: 100%;margin-bottom: 0;padding: 0.3em;box-sizing: border-box;text-align: center;}#sk-0d1f6c3c-f781-47e9-9f27-98f22670d5c0 label.sk-toggleable__label-arrow:before {content: \"▸\";float: left;margin-right: 0.25em;color: #696969;}#sk-0d1f6c3c-f781-47e9-9f27-98f22670d5c0 label.sk-toggleable__label-arrow:hover:before {color: black;}#sk-0d1f6c3c-f781-47e9-9f27-98f22670d5c0 div.sk-estimator:hover label.sk-toggleable__label-arrow:before {color: black;}#sk-0d1f6c3c-f781-47e9-9f27-98f22670d5c0 div.sk-toggleable__content {max-height: 0;max-width: 0;overflow: hidden;text-align: left;background-color: #f0f8ff;}#sk-0d1f6c3c-f781-47e9-9f27-98f22670d5c0 div.sk-toggleable__content pre {margin: 0.2em;color: black;border-radius: 0.25em;background-color: #f0f8ff;}#sk-0d1f6c3c-f781-47e9-9f27-98f22670d5c0 input.sk-toggleable__control:checked~div.sk-toggleable__content {max-height: 200px;max-width: 100%;overflow: auto;}#sk-0d1f6c3c-f781-47e9-9f27-98f22670d5c0 input.sk-toggleable__control:checked~label.sk-toggleable__label-arrow:before {content: \"▾\";}#sk-0d1f6c3c-f781-47e9-9f27-98f22670d5c0 div.sk-estimator input.sk-toggleable__control:checked~label.sk-toggleable__label {background-color: #d4ebff;}#sk-0d1f6c3c-f781-47e9-9f27-98f22670d5c0 div.sk-label input.sk-toggleable__control:checked~label.sk-toggleable__label {background-color: #d4ebff;}#sk-0d1f6c3c-f781-47e9-9f27-98f22670d5c0 input.sk-hidden--visually {border: 0;clip: rect(1px 1px 1px 1px);clip: rect(1px, 1px, 1px, 1px);height: 1px;margin: -1px;overflow: hidden;padding: 0;position: absolute;width: 1px;}#sk-0d1f6c3c-f781-47e9-9f27-98f22670d5c0 div.sk-estimator {font-family: monospace;background-color: #f0f8ff;border: 1px dotted black;border-radius: 0.25em;box-sizing: border-box;margin-bottom: 0.5em;}#sk-0d1f6c3c-f781-47e9-9f27-98f22670d5c0 div.sk-estimator:hover {background-color: #d4ebff;}#sk-0d1f6c3c-f781-47e9-9f27-98f22670d5c0 div.sk-parallel-item::after {content: \"\";width: 100%;border-bottom: 1px solid gray;flex-grow: 1;}#sk-0d1f6c3c-f781-47e9-9f27-98f22670d5c0 div.sk-label:hover label.sk-toggleable__label {background-color: #d4ebff;}#sk-0d1f6c3c-f781-47e9-9f27-98f22670d5c0 div.sk-serial::before {content: \"\";position: absolute;border-left: 1px solid gray;box-sizing: border-box;top: 2em;bottom: 0;left: 50%;}#sk-0d1f6c3c-f781-47e9-9f27-98f22670d5c0 div.sk-serial {display: flex;flex-direction: column;align-items: center;background-color: white;padding-right: 0.2em;padding-left: 0.2em;}#sk-0d1f6c3c-f781-47e9-9f27-98f22670d5c0 div.sk-item {z-index: 1;}#sk-0d1f6c3c-f781-47e9-9f27-98f22670d5c0 div.sk-parallel {display: flex;align-items: stretch;justify-content: center;background-color: white;}#sk-0d1f6c3c-f781-47e9-9f27-98f22670d5c0 div.sk-parallel::before {content: \"\";position: absolute;border-left: 1px solid gray;box-sizing: border-box;top: 2em;bottom: 0;left: 50%;}#sk-0d1f6c3c-f781-47e9-9f27-98f22670d5c0 div.sk-parallel-item {display: flex;flex-direction: column;position: relative;background-color: white;}#sk-0d1f6c3c-f781-47e9-9f27-98f22670d5c0 div.sk-parallel-item:first-child::after {align-self: flex-end;width: 50%;}#sk-0d1f6c3c-f781-47e9-9f27-98f22670d5c0 div.sk-parallel-item:last-child::after {align-self: flex-start;width: 50%;}#sk-0d1f6c3c-f781-47e9-9f27-98f22670d5c0 div.sk-parallel-item:only-child::after {width: 0;}#sk-0d1f6c3c-f781-47e9-9f27-98f22670d5c0 div.sk-dashed-wrapped {border: 1px dashed gray;margin: 0 0.4em 0.5em 0.4em;box-sizing: border-box;padding-bottom: 0.4em;background-color: white;position: relative;}#sk-0d1f6c3c-f781-47e9-9f27-98f22670d5c0 div.sk-label label {font-family: monospace;font-weight: bold;background-color: white;display: inline-block;line-height: 1.2em;}#sk-0d1f6c3c-f781-47e9-9f27-98f22670d5c0 div.sk-label-container {position: relative;z-index: 2;text-align: center;}#sk-0d1f6c3c-f781-47e9-9f27-98f22670d5c0 div.sk-container {/* jupyter's `normalize.less` sets `[hidden] { display: none; }` but bootstrap.min.css set `[hidden] { display: none !important; }` so we also need the `!important` here to be able to override the default hidden behavior on the sphinx rendered scikit-learn.org. See: https://github.com/scikit-learn/scikit-learn/issues/21755 */display: inline-block !important;position: relative;}#sk-0d1f6c3c-f781-47e9-9f27-98f22670d5c0 div.sk-text-repr-fallback {display: none;}</style><div id='sk-0d1f6c3c-f781-47e9-9f27-98f22670d5c0' class=\"sk-top-container\"><div class=\"sk-text-repr-fallback\"><pre>KNeighborsTimeSeriesClassifier(distance=&#x27;twe&#x27;, n_jobs=10)</pre><b>Please rerun this cell to show the HTML repr or trust the notebook.</b></div><div class=\"sk-container\" hidden><div class='sk-item'><div class=\"sk-estimator sk-toggleable\"><input class=\"sk-toggleable__control sk-hidden--visually\" id=UUID('606c6897-8200-40e7-9f6e-fb77d7b44cec') type=\"checkbox\" checked><label for=UUID('606c6897-8200-40e7-9f6e-fb77d7b44cec') class='sk-toggleable__label sk-toggleable__label-arrow'>KNeighborsTimeSeriesClassifier</label><div class=\"sk-toggleable__content\"><pre>KNeighborsTimeSeriesClassifier(distance=&#x27;twe&#x27;, n_jobs=10)</pre></div></div></div></div></div>"
      ],
      "text/plain": [
       "KNeighborsTimeSeriesClassifier(distance='twe', n_jobs=10)"
      ]
     },
     "execution_count": 45,
     "metadata": {},
     "output_type": "execute_result"
    }
   ],
   "source": [
    "from sktime.classification.distance_based import KNeighborsTimeSeriesClassifier\n",
    "classifier = KNeighborsTimeSeriesClassifier(distance= 'twe', n_jobs=10)\n",
    "classifier.fit(X_train, y_train)"
   ]
  },
  {
   "cell_type": "code",
   "execution_count": 46,
   "id": "ae760d74",
   "metadata": {},
   "outputs": [
    {
     "name": "stdout",
     "output_type": "stream",
     "text": [
      "Test Accuracy:0.92\n"
     ]
    }
   ],
   "source": [
    "print(\"Test Accuracy:{:.2f}\".format(classifier.score(X_test, y_test)))"
   ]
  },
  {
   "cell_type": "code",
   "execution_count": null,
   "id": "d3050c6f",
   "metadata": {},
   "outputs": [],
   "source": []
  },
  {
   "cell_type": "code",
   "execution_count": null,
   "id": "3d0a793b",
   "metadata": {},
   "outputs": [],
   "source": [
    "dist = DTW_custom_metric(X1=Dataset[0,:,:], X2=Dataset[1,:,:])\n",
    "dist"
   ]
  },
  {
   "cell_type": "code",
   "execution_count": null,
   "id": "76847ef6",
   "metadata": {},
   "outputs": [],
   "source": [
    "dist1 = dtw(x=Dataset[0,:,0], y=Dataset[1,:,0],\n",
    "           dist='square', method='classic', return_cost=True)\n",
    "dist1"
   ]
  },
  {
   "cell_type": "code",
   "execution_count": null,
   "id": "4f881c43",
   "metadata": {},
   "outputs": [],
   "source": []
  },
  {
   "cell_type": "code",
   "execution_count": null,
   "id": "e6a92958",
   "metadata": {},
   "outputs": [],
   "source": []
  }
 ],
 "metadata": {
  "kernelspec": {
   "display_name": "Python 3 (ipykernel)",
   "language": "python",
   "name": "python3"
  },
  "language_info": {
   "codemirror_mode": {
    "name": "ipython",
    "version": 3
   },
   "file_extension": ".py",
   "mimetype": "text/x-python",
   "name": "python",
   "nbconvert_exporter": "python",
   "pygments_lexer": "ipython3",
   "version": "3.10.6"
  }
 },
 "nbformat": 4,
 "nbformat_minor": 5
}
