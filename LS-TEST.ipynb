{
 "cells": [
  {
   "cell_type": "code",
   "execution_count": 19,
   "id": "10ee3c05",
   "metadata": {},
   "outputs": [],
   "source": [
    "import numpy as np\n",
    "import pyts\n",
    "from pyts.metrics import dtw\n",
    "import sklearn"
   ]
  },
  {
   "cell_type": "code",
   "execution_count": 20,
   "id": "c4a9ae28",
   "metadata": {},
   "outputs": [
    {
     "name": "stdout",
     "output_type": "stream",
     "text": [
      "(600, 60, 1)\n",
      "(600,)\n"
     ]
    }
   ],
   "source": [
    "# datasets = [\n",
    "# \"ETCHING_Multivar\",\n",
    "# ]\n",
    "datasets = [\n",
    "\"Control_charts\",\n",
    "]\n",
    "\n",
    "\n",
    "datasets_path = \"../datasets\"\n",
    "\n",
    "for dataset in datasets:\n",
    "    Dataset_name = dataset + \"_Dataset\"\n",
    "    Dataset = np.load(datasets_path + \"/\" + Dataset_name + \".npy\")\n",
    "    Dataset = Dataset\n",
    "    print(Dataset.shape)\n",
    "    \n",
    "    Labels_name = dataset + \"_Labels\"\n",
    "    Labels = np.load(datasets_path + \"/\"  + Labels_name + \".npy\")\n",
    "    Labels = Labels.squeeze()\n",
    "    print(Labels.shape)"
   ]
  },
  {
   "cell_type": "code",
   "execution_count": 21,
   "id": "79c46c96",
   "metadata": {},
   "outputs": [],
   "source": [
    "from pyts.classification import LearningShapelets"
   ]
  },
  {
   "cell_type": "code",
   "execution_count": 22,
   "id": "37a85b6a",
   "metadata": {},
   "outputs": [
    {
     "name": "stdout",
     "output_type": "stream",
     "text": [
      "(600, 60)\n",
      "(600,)\n"
     ]
    }
   ],
   "source": [
    "Dataset = Dataset[:,:,0]\n",
    "print(Dataset.shape)\n",
    "Labels = Labels.reshape((-1,))\n",
    "print(Labels.shape)"
   ]
  },
  {
   "cell_type": "code",
   "execution_count": 23,
   "id": "131d4c94",
   "metadata": {},
   "outputs": [
    {
     "data": {
      "text/plain": [
       "((480, 60), (120, 60), (480,), (120,))"
      ]
     },
     "execution_count": 23,
     "metadata": {},
     "output_type": "execute_result"
    }
   ],
   "source": [
    "##Generate the initial training and test sets to feed to the model\n",
    "from sklearn.model_selection import train_test_split\n",
    "\n",
    "X_train, X_test, y_train, y_test = train_test_split(Dataset, Labels, train_size=0.8 ,shuffle=True)\n",
    "X_train.shape, X_test.shape, y_train.shape, y_test.shape"
   ]
  },
  {
   "cell_type": "code",
   "execution_count": 24,
   "id": "c63a1c18",
   "metadata": {},
   "outputs": [],
   "source": [
    "classifier = LearningShapelets(n_shapelets_per_size=0.1, min_shapelet_length=0.05, C=100, verbose=1)"
   ]
  },
  {
   "cell_type": "code",
   "execution_count": 25,
   "id": "0325e17b",
   "metadata": {
    "scrolled": false
   },
   "outputs": [
    {
     "name": "stderr",
     "output_type": "stream",
     "text": [
      "/home/ma00048/miniconda3/envs/DL/lib/python3.9/site-packages/sklearn/cluster/_kmeans.py:870: FutureWarning: The default value of `n_init` will change from 10 to 'auto' in 1.4. Set the value of `n_init` explicitly to suppress the warning\n",
      "  warnings.warn(\n",
      "/home/ma00048/miniconda3/envs/DL/lib/python3.9/site-packages/sklearn/cluster/_kmeans.py:870: FutureWarning: The default value of `n_init` will change from 10 to 'auto' in 1.4. Set the value of `n_init` explicitly to suppress the warning\n",
      "  warnings.warn(\n",
      "/home/ma00048/miniconda3/envs/DL/lib/python3.9/site-packages/sklearn/cluster/_kmeans.py:870: FutureWarning: The default value of `n_init` will change from 10 to 'auto' in 1.4. Set the value of `n_init` explicitly to suppress the warning\n",
      "  warnings.warn(\n"
     ]
    },
    {
     "name": "stdout",
     "output_type": "stream",
     "text": [
      "Iteration 0: loss = 1.791680\n",
      "Iteration 1: loss = 1.745373\n",
      "Iteration 2: loss = 1.706709\n",
      "Iteration 3: loss = 1.671993\n",
      "Iteration 4: loss = 1.639609\n",
      "Iteration 5: loss = 1.608770\n",
      "Iteration 6: loss = 1.579027\n",
      "Iteration 7: loss = 1.550080\n",
      "Iteration 8: loss = 1.521703\n",
      "Iteration 9: loss = 1.493714\n",
      "Iteration 10: loss = 1.465970\n",
      "Iteration 11: loss = 1.438385\n",
      "Iteration 12: loss = 1.410941\n",
      "Iteration 13: loss = 1.383649\n",
      "Iteration 14: loss = 1.356522\n",
      "Iteration 15: loss = 1.329602\n",
      "Iteration 16: loss = 1.302930\n",
      "Iteration 17: loss = 1.276563\n",
      "Iteration 18: loss = 1.250639\n",
      "Iteration 19: loss = 1.225248\n",
      "Iteration 20: loss = 1.200421\n",
      "Iteration 21: loss = 1.176183\n",
      "Iteration 22: loss = 1.152603\n",
      "Iteration 23: loss = 1.129755\n",
      "Iteration 24: loss = 1.107706\n",
      "Iteration 25: loss = 1.086531\n",
      "Iteration 26: loss = 1.066265\n",
      "Iteration 27: loss = 1.046917\n",
      "Iteration 28: loss = 1.028492\n",
      "Iteration 29: loss = 1.010982\n",
      "Iteration 30: loss = 0.994377\n",
      "Iteration 31: loss = 0.978646\n",
      "Iteration 32: loss = 0.963744\n",
      "Iteration 33: loss = 0.949656\n",
      "Iteration 34: loss = 0.936355\n",
      "Iteration 35: loss = 0.923798\n",
      "Iteration 36: loss = 0.911928\n",
      "Iteration 37: loss = 0.900685\n",
      "Iteration 38: loss = 0.890022\n",
      "Iteration 39: loss = 0.879898\n",
      "Iteration 40: loss = 0.870274\n",
      "Iteration 41: loss = 0.861111\n",
      "Iteration 42: loss = 0.852376\n",
      "Iteration 43: loss = 0.844042\n",
      "Iteration 44: loss = 0.836079\n",
      "Iteration 45: loss = 0.828457\n",
      "Iteration 46: loss = 0.821146\n",
      "Iteration 47: loss = 0.814128\n",
      "Iteration 48: loss = 0.807391\n",
      "Iteration 49: loss = 0.800926\n",
      "Iteration 50: loss = 0.794717\n",
      "Iteration 51: loss = 0.788745\n",
      "Iteration 52: loss = 0.782999\n",
      "Iteration 53: loss = 0.777463\n",
      "Iteration 54: loss = 0.772122\n",
      "Iteration 55: loss = 0.766965\n",
      "Iteration 56: loss = 0.761981\n",
      "Iteration 57: loss = 0.757159\n",
      "Iteration 58: loss = 0.752490\n",
      "Iteration 59: loss = 0.747964\n",
      "Iteration 60: loss = 0.743575\n",
      "Iteration 61: loss = 0.739314\n",
      "Iteration 62: loss = 0.735174\n",
      "Iteration 63: loss = 0.731150\n",
      "Iteration 64: loss = 0.727236\n",
      "Iteration 65: loss = 0.723424\n",
      "Iteration 66: loss = 0.719707\n",
      "Iteration 67: loss = 0.716079\n",
      "Iteration 68: loss = 0.712533\n",
      "Iteration 69: loss = 0.709067\n",
      "Iteration 70: loss = 0.705674\n",
      "Iteration 71: loss = 0.702352\n",
      "Iteration 72: loss = 0.699100\n",
      "Iteration 73: loss = 0.695917\n",
      "Iteration 74: loss = 0.692805\n",
      "Iteration 75: loss = 0.689763\n",
      "Iteration 76: loss = 0.686787\n",
      "Iteration 77: loss = 0.683871\n",
      "Iteration 78: loss = 0.681007\n",
      "Iteration 79: loss = 0.678192\n",
      "Iteration 80: loss = 0.675423\n",
      "Iteration 81: loss = 0.672700\n",
      "Iteration 82: loss = 0.670020\n",
      "Iteration 83: loss = 0.667381\n",
      "Iteration 84: loss = 0.664780\n",
      "Iteration 85: loss = 0.662214\n",
      "Iteration 86: loss = 0.659681\n",
      "Iteration 87: loss = 0.657182\n",
      "Iteration 88: loss = 0.654719\n",
      "Iteration 89: loss = 0.652290\n",
      "Iteration 90: loss = 0.649898\n",
      "Iteration 91: loss = 0.647542\n",
      "Iteration 92: loss = 0.645225\n",
      "Iteration 93: loss = 0.642944\n",
      "Iteration 94: loss = 0.640695\n",
      "Iteration 95: loss = 0.638471\n",
      "Iteration 96: loss = 0.636272\n",
      "Iteration 97: loss = 0.634096\n",
      "Iteration 98: loss = 0.631947\n",
      "Iteration 99: loss = 0.629824\n",
      "Iteration 100: loss = 0.627729\n",
      "Iteration 101: loss = 0.625658\n",
      "Iteration 102: loss = 0.623615\n",
      "Iteration 103: loss = 0.621600\n",
      "Iteration 104: loss = 0.619627\n",
      "Iteration 105: loss = 0.617699\n",
      "Iteration 106: loss = 0.615962\n",
      "Iteration 107: loss = 0.614919\n",
      "Iteration 108: loss = 0.613566\n",
      "Iteration 109: loss = 0.613074\n"
     ]
    },
    {
     "data": {
      "text/html": [
       "<style>#sk-container-id-3 {color: black;background-color: white;}#sk-container-id-3 pre{padding: 0;}#sk-container-id-3 div.sk-toggleable {background-color: white;}#sk-container-id-3 label.sk-toggleable__label {cursor: pointer;display: block;width: 100%;margin-bottom: 0;padding: 0.3em;box-sizing: border-box;text-align: center;}#sk-container-id-3 label.sk-toggleable__label-arrow:before {content: \"▸\";float: left;margin-right: 0.25em;color: #696969;}#sk-container-id-3 label.sk-toggleable__label-arrow:hover:before {color: black;}#sk-container-id-3 div.sk-estimator:hover label.sk-toggleable__label-arrow:before {color: black;}#sk-container-id-3 div.sk-toggleable__content {max-height: 0;max-width: 0;overflow: hidden;text-align: left;background-color: #f0f8ff;}#sk-container-id-3 div.sk-toggleable__content pre {margin: 0.2em;color: black;border-radius: 0.25em;background-color: #f0f8ff;}#sk-container-id-3 input.sk-toggleable__control:checked~div.sk-toggleable__content {max-height: 200px;max-width: 100%;overflow: auto;}#sk-container-id-3 input.sk-toggleable__control:checked~label.sk-toggleable__label-arrow:before {content: \"▾\";}#sk-container-id-3 div.sk-estimator input.sk-toggleable__control:checked~label.sk-toggleable__label {background-color: #d4ebff;}#sk-container-id-3 div.sk-label input.sk-toggleable__control:checked~label.sk-toggleable__label {background-color: #d4ebff;}#sk-container-id-3 input.sk-hidden--visually {border: 0;clip: rect(1px 1px 1px 1px);clip: rect(1px, 1px, 1px, 1px);height: 1px;margin: -1px;overflow: hidden;padding: 0;position: absolute;width: 1px;}#sk-container-id-3 div.sk-estimator {font-family: monospace;background-color: #f0f8ff;border: 1px dotted black;border-radius: 0.25em;box-sizing: border-box;margin-bottom: 0.5em;}#sk-container-id-3 div.sk-estimator:hover {background-color: #d4ebff;}#sk-container-id-3 div.sk-parallel-item::after {content: \"\";width: 100%;border-bottom: 1px solid gray;flex-grow: 1;}#sk-container-id-3 div.sk-label:hover label.sk-toggleable__label {background-color: #d4ebff;}#sk-container-id-3 div.sk-serial::before {content: \"\";position: absolute;border-left: 1px solid gray;box-sizing: border-box;top: 0;bottom: 0;left: 50%;z-index: 0;}#sk-container-id-3 div.sk-serial {display: flex;flex-direction: column;align-items: center;background-color: white;padding-right: 0.2em;padding-left: 0.2em;position: relative;}#sk-container-id-3 div.sk-item {position: relative;z-index: 1;}#sk-container-id-3 div.sk-parallel {display: flex;align-items: stretch;justify-content: center;background-color: white;position: relative;}#sk-container-id-3 div.sk-item::before, #sk-container-id-3 div.sk-parallel-item::before {content: \"\";position: absolute;border-left: 1px solid gray;box-sizing: border-box;top: 0;bottom: 0;left: 50%;z-index: -1;}#sk-container-id-3 div.sk-parallel-item {display: flex;flex-direction: column;z-index: 1;position: relative;background-color: white;}#sk-container-id-3 div.sk-parallel-item:first-child::after {align-self: flex-end;width: 50%;}#sk-container-id-3 div.sk-parallel-item:last-child::after {align-self: flex-start;width: 50%;}#sk-container-id-3 div.sk-parallel-item:only-child::after {width: 0;}#sk-container-id-3 div.sk-dashed-wrapped {border: 1px dashed gray;margin: 0 0.4em 0.5em 0.4em;box-sizing: border-box;padding-bottom: 0.4em;background-color: white;}#sk-container-id-3 div.sk-label label {font-family: monospace;font-weight: bold;display: inline-block;line-height: 1.2em;}#sk-container-id-3 div.sk-label-container {text-align: center;}#sk-container-id-3 div.sk-container {/* jupyter's `normalize.less` sets `[hidden] { display: none; }` but bootstrap.min.css set `[hidden] { display: none !important; }` so we also need the `!important` here to be able to override the default hidden behavior on the sphinx rendered scikit-learn.org. See: https://github.com/scikit-learn/scikit-learn/issues/21755 */display: inline-block !important;position: relative;}#sk-container-id-3 div.sk-text-repr-fallback {display: none;}</style><div id=\"sk-container-id-3\" class=\"sk-top-container\"><div class=\"sk-text-repr-fallback\"><pre>LearningShapelets(C=100, min_shapelet_length=0.05, n_shapelets_per_size=0.1,\n",
       "                  verbose=1)</pre><b>In a Jupyter environment, please rerun this cell to show the HTML representation or trust the notebook. <br />On GitHub, the HTML representation is unable to render, please try loading this page with nbviewer.org.</b></div><div class=\"sk-container\" hidden><div class=\"sk-item\"><div class=\"sk-estimator sk-toggleable\"><input class=\"sk-toggleable__control sk-hidden--visually\" id=\"sk-estimator-id-3\" type=\"checkbox\" checked><label for=\"sk-estimator-id-3\" class=\"sk-toggleable__label sk-toggleable__label-arrow\">LearningShapelets</label><div class=\"sk-toggleable__content\"><pre>LearningShapelets(C=100, min_shapelet_length=0.05, n_shapelets_per_size=0.1,\n",
       "                  verbose=1)</pre></div></div></div></div></div>"
      ],
      "text/plain": [
       "LearningShapelets(C=100, min_shapelet_length=0.05, n_shapelets_per_size=0.1,\n",
       "                  verbose=1)"
      ]
     },
     "execution_count": 25,
     "metadata": {},
     "output_type": "execute_result"
    }
   ],
   "source": [
    "classifier.fit(X_train, y_train)"
   ]
  },
  {
   "cell_type": "code",
   "execution_count": 26,
   "id": "7ae9f5f4",
   "metadata": {},
   "outputs": [],
   "source": [
    "y_pred = classifier.predict(X_test)"
   ]
  },
  {
   "cell_type": "code",
   "execution_count": 27,
   "id": "eea15b67",
   "metadata": {},
   "outputs": [
    {
     "name": "stdout",
     "output_type": "stream",
     "text": [
      "0.9833333333333333\n"
     ]
    }
   ],
   "source": [
    "from sklearn.metrics import accuracy_score\n",
    "accuracy = accuracy_score(y_test, y_pred)\n",
    "print(accuracy)"
   ]
  },
  {
   "cell_type": "code",
   "execution_count": null,
   "id": "a709d846",
   "metadata": {},
   "outputs": [],
   "source": []
  }
 ],
 "metadata": {
  "kernelspec": {
   "display_name": "Python 3",
   "language": "python",
   "name": "python3"
  },
  "language_info": {
   "codemirror_mode": {
    "name": "ipython",
    "version": 3
   },
   "file_extension": ".py",
   "mimetype": "text/x-python",
   "name": "python",
   "nbconvert_exporter": "python",
   "pygments_lexer": "ipython3",
   "version": "3.9.16"
  }
 },
 "nbformat": 4,
 "nbformat_minor": 5
}
