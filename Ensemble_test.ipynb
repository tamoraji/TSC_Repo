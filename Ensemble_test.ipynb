{
 "cells": [
  {
   "cell_type": "code",
   "execution_count": 1,
   "id": "5a4e4cfb",
   "metadata": {},
   "outputs": [],
   "source": [
    "import numpy as np\n",
    "from sklearn.model_selection import train_test_split\n",
    "from sklearn.neighbors import KNeighborsClassifier\n",
    "from sklearn.metrics import accuracy_score, f1_score"
   ]
  },
  {
   "cell_type": "code",
   "execution_count": 3,
   "id": "4cf1f216",
   "metadata": {},
   "outputs": [
    {
     "name": "stdout",
     "output_type": "stream",
     "text": [
      "(5400, 1000, 3)\n"
     ]
    }
   ],
   "source": [
    "datasets = [\n",
    "\"CWRU_12k_FE_multivar\"\n",
    "]\n",
    "\n",
    "datasets_path = \"../datasets\"\n",
    "\n",
    "for dataset in datasets:\n",
    "    Dataset_name = dataset + \"_Dataset\"\n",
    "    Dataset = np.load(datasets_path + \"/\" + Dataset_name + \".npy\")\n",
    "    Dataset = Dataset\n",
    "    print(Dataset.shape)\n",
    "    \n",
    "    Labels_name = dataset + \"_Labels\"\n",
    "    Labels = np.load(datasets_path + \"/\"  + Labels_name + \".npy\")\n",
    "    Labels = Labels"
   ]
  },
  {
   "cell_type": "code",
   "execution_count": null,
   "id": "09e5b76b",
   "metadata": {},
   "outputs": [],
   "source": []
  },
  {
   "cell_type": "code",
   "execution_count": 4,
   "id": "4c1440f7",
   "metadata": {},
   "outputs": [
    {
     "name": "stdout",
     "output_type": "stream",
     "text": [
      "\n",
      " The dataset shape is:(5400, 1000, 3)\n",
      "\n",
      " The number of data samples (N) is:5400\n",
      "\n",
      " The number of TS length (T) is:1000\n",
      "\n",
      " The number of TS dimention (M) is:3\n"
     ]
    }
   ],
   "source": [
    "print(f\"\\n The dataset shape is:{Dataset.shape}\")\n",
    "N=Dataset.shape[0]\n",
    "print(f\"\\n The number of data samples (N) is:{N}\")\n",
    "\n",
    "T=Dataset.shape[1]\n",
    "print(f\"\\n The number of TS length (T) is:{T}\")\n",
    "\n",
    "M=Dataset.shape[2]\n",
    "print(f\"\\n The number of TS dimention (M) is:{M}\")"
   ]
  },
  {
   "cell_type": "code",
   "execution_count": 5,
   "id": "66a263e7",
   "metadata": {
    "scrolled": true
   },
   "outputs": [
    {
     "data": {
      "text/plain": [
       "3"
      ]
     },
     "execution_count": 5,
     "metadata": {},
     "output_type": "execute_result"
    }
   ],
   "source": [
    "# split the multivariate time-series into separate univariate time-series, one for each variable\n",
    "X_univariate = np.split(Dataset, M, axis=2)\n",
    "len(X_univariate)"
   ]
  },
  {
   "cell_type": "code",
   "execution_count": 6,
   "id": "e5aa3e66",
   "metadata": {},
   "outputs": [
    {
     "data": {
      "text/plain": [
       "array([[[ 0.08527844],\n",
       "        [ 0.10152196],\n",
       "        [-0.07634451],\n",
       "        ...,\n",
       "        [-0.04142096],\n",
       "        [-0.05238533],\n",
       "        [-0.01299481]],\n",
       "\n",
       "       [[-0.12791766],\n",
       "        [-0.09827325],\n",
       "        [ 0.10477066],\n",
       "        ...,\n",
       "        [-0.0998976 ],\n",
       "        [-0.15309511],\n",
       "        [-0.21035349]],\n",
       "\n",
       "       [[-0.01583743],\n",
       "        [ 0.07553234],\n",
       "        [-0.06741058],\n",
       "        ...,\n",
       "        [ 0.03614182],\n",
       "        [ 0.22740918],\n",
       "        [-0.01299481]],\n",
       "\n",
       "       ...,\n",
       "\n",
       "       [[ 0.04125852],\n",
       "        [ 0.09307533],\n",
       "        [-0.03151242],\n",
       "        ...,\n",
       "        [-0.11971469],\n",
       "        [-0.10200926],\n",
       "        [-0.09145098]],\n",
       "\n",
       "       [[ 0.00617253],\n",
       "        [ 0.08381653],\n",
       "        [ 0.08576575],\n",
       "        ...,\n",
       "        [ 0.06123804],\n",
       "        [ 0.23910451],\n",
       "        [ 0.03784739]],\n",
       "\n",
       "       [[-0.18014056],\n",
       "        [-0.0328119 ],\n",
       "        [ 0.06546136],\n",
       "        ...,\n",
       "        [-0.12637453],\n",
       "        [ 0.00633497],\n",
       "        [-0.02712667]]])"
      ]
     },
     "execution_count": 6,
     "metadata": {},
     "output_type": "execute_result"
    }
   ],
   "source": [
    "X_univariate[0]"
   ]
  },
  {
   "cell_type": "code",
   "execution_count": 7,
   "id": "69d49708",
   "metadata": {},
   "outputs": [
    {
     "data": {
      "text/plain": [
       "(5400, 1000)"
      ]
     },
     "execution_count": 7,
     "metadata": {},
     "output_type": "execute_result"
    }
   ],
   "source": [
    "Dataset[:,:,0].shape"
   ]
  },
  {
   "cell_type": "code",
   "execution_count": 8,
   "id": "dc58e7fc",
   "metadata": {},
   "outputs": [
    {
     "name": "stdout",
     "output_type": "stream",
     "text": [
      "(4320, 1000)\n",
      "(1080, 1000)\n",
      "(4320,)\n",
      "(1080,)\n",
      "accuracy for dimension:0.3638888888888889\n",
      "1\n",
      "(4320, 1000)\n",
      "(1080, 1000)\n",
      "(4320,)\n",
      "(1080,)\n",
      "accuracy for dimension:0.3990740740740741\n",
      "2\n",
      "(4320, 1000)\n",
      "(1080, 1000)\n",
      "(4320,)\n",
      "(1080,)\n",
      "accuracy for dimension:0.7916666666666666\n",
      "3\n"
     ]
    }
   ],
   "source": [
    "# list to store predicted class labels for each univariate time-series\n",
    "y_pred_univariate = []\n",
    "\n",
    "# perform KNN classification on each univariate time-series independently\n",
    "for X_var in X_univariate:\n",
    "    # train-test split\n",
    "    X_train, X_test, y_train, y_test = train_test_split(X_var.reshape(N, T), Labels.squeeze(), test_size=0.2, shuffle=True)\n",
    "    print(X_train.shape)\n",
    "    print(X_test.shape)\n",
    "    print(y_train.shape)\n",
    "    print(y_test.shape)\n",
    "    \n",
    "    # KNN classification\n",
    "    from sktime.classification.distance_based import KNeighborsTimeSeriesClassifier\n",
    "    classifier = KNeighborsTimeSeriesClassifier(distance= \"euclidean\", n_jobs=10)\n",
    "    classifier.fit(X_train, y_train)\n",
    "    \n",
    "        \n",
    "    # predict class labels\n",
    "    y_pred_var = classifier.predict(X_test)\n",
    "    accuracy = accuracy_score(y_test, y_pred_var)\n",
    "    print(f\"accuracy for dimension:{accuracy}\")\n",
    "    y_pred_univariate.append(y_pred_var)\n",
    "    print(len(y_pred_univariate))\n",
    "    \n"
   ]
  },
  {
   "cell_type": "code",
   "execution_count": 9,
   "id": "59534235",
   "metadata": {},
   "outputs": [
    {
     "data": {
      "text/plain": [
       "array([0., 1., 2., 3., 4., 5., 6., 7., 8.])"
      ]
     },
     "execution_count": 9,
     "metadata": {},
     "output_type": "execute_result"
    }
   ],
   "source": [
    "np.unique(Labels)"
   ]
  },
  {
   "cell_type": "code",
   "execution_count": 10,
   "id": "94349eaf",
   "metadata": {
    "scrolled": true
   },
   "outputs": [
    {
     "data": {
      "text/plain": [
       "[array([6., 8., 6., ..., 6., 6., 8.]),\n",
       " array([0., 6., 6., ..., 6., 1., 6.]),\n",
       " array([1., 8., 7., ..., 7., 3., 1.])]"
      ]
     },
     "execution_count": 10,
     "metadata": {},
     "output_type": "execute_result"
    }
   ],
   "source": [
    "y_pred_univariate"
   ]
  },
  {
   "cell_type": "code",
   "execution_count": 48,
   "id": "077db891",
   "metadata": {},
   "outputs": [
    {
     "data": {
      "text/plain": [
       "6.0"
      ]
     },
     "execution_count": 48,
     "metadata": {},
     "output_type": "execute_result"
    }
   ],
   "source": [
    "y_pred_univariate[2][0]"
   ]
  },
  {
   "cell_type": "code",
   "execution_count": 14,
   "id": "a8d12eef",
   "metadata": {},
   "outputs": [],
   "source": [
    "# ensemble the results by taking the majority vote for each time step\n",
    "#y_pred_ensemble = np.apply_along_axis(lambda x: np.argmax(np.bincount(x)), axis=0, arr=y_pred_univariate)\n",
    "y_pred_ensemble = np.apply_along_axis(lambda x: np.argmax(np.bincount(np.round(x).astype(int))), axis=0, arr=y_pred_univariate)\n"
   ]
  },
  {
   "cell_type": "code",
   "execution_count": 12,
   "id": "c38a57fc",
   "metadata": {},
   "outputs": [
    {
     "data": {
      "text/plain": [
       "array([0, 8, 6, ..., 6, 1, 1])"
      ]
     },
     "execution_count": 12,
     "metadata": {},
     "output_type": "execute_result"
    }
   ],
   "source": [
    "y_pred_ensemble"
   ]
  },
  {
   "cell_type": "code",
   "execution_count": 13,
   "id": "b5bea78d",
   "metadata": {},
   "outputs": [
    {
     "name": "stdout",
     "output_type": "stream",
     "text": [
      "0.30643355338395634\n",
      "Accuracy of KNN classification on multivariate time-series: 0.3194444444444444\n"
     ]
    }
   ],
   "source": [
    "# compute the accuracy of the final classification\n",
    "accuracy = accuracy_score(y_test, y_pred_ensemble)\n",
    "\n",
    "f1 = f1_score(y_test, y_pred_ensemble, average='weighted')\n",
    "print(f1)\n",
    "\n",
    "print(\"Accuracy of KNN classification on multivariate time-series:\", accuracy)\n"
   ]
  },
  {
   "cell_type": "code",
   "execution_count": null,
   "id": "9ee8d889",
   "metadata": {},
   "outputs": [],
   "source": []
  }
 ],
 "metadata": {
  "kernelspec": {
   "display_name": "Python 3 (ipykernel)",
   "language": "python",
   "name": "python3"
  },
  "language_info": {
   "codemirror_mode": {
    "name": "ipython",
    "version": 3
   },
   "file_extension": ".py",
   "mimetype": "text/x-python",
   "name": "python",
   "nbconvert_exporter": "python",
   "pygments_lexer": "ipython3",
   "version": "3.10.6"
  }
 },
 "nbformat": 4,
 "nbformat_minor": 5
}
