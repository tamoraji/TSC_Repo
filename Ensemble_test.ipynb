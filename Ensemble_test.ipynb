{
 "cells": [
  {
   "cell_type": "code",
   "execution_count": 11,
   "id": "5a4e4cfb",
   "metadata": {},
   "outputs": [],
   "source": [
    "import numpy as np\n",
    "from sklearn.model_selection import train_test_split\n",
    "from sklearn.neighbors import KNeighborsClassifier\n",
    "from sklearn.metrics import accuracy_score, f1_score"
   ]
  },
  {
   "cell_type": "markdown",
   "id": "2ae80f0a",
   "metadata": {},
   "source": [
    "## Running KNN only on the first dimension"
   ]
  },
  {
   "cell_type": "code",
   "execution_count": 31,
   "id": "4cf1f216",
   "metadata": {},
   "outputs": [
    {
     "name": "stdout",
     "output_type": "stream",
     "text": [
      "(5400, 1000, 3)\n"
     ]
    }
   ],
   "source": [
    "datasets = [\n",
    "\"CWRU_12k_FE_multivar\"\n",
    "]\n",
    "\n",
    "datasets_path = \"../datasets\"\n",
    "\n",
    "for dataset in datasets:\n",
    "    Dataset_name = dataset + \"_Dataset\"\n",
    "    Dataset = np.load(datasets_path + \"/\" + Dataset_name + \".npy\", mmap_mode='r')\n",
    "    Dataset = Dataset\n",
    "    print(Dataset.shape)\n",
    "    \n",
    "    Labels_name = dataset + \"_Labels\"\n",
    "    Labels = np.load(datasets_path + \"/\"  + Labels_name + \".npy\", mmap_mode='r')\n",
    "    Labels = Labels.squeeze()"
   ]
  },
  {
   "cell_type": "code",
   "execution_count": 14,
   "id": "3067b616",
   "metadata": {},
   "outputs": [],
   "source": [
    "Dataset1 = Dataset[:,:,0] #only the first dimension"
   ]
  },
  {
   "cell_type": "code",
   "execution_count": 16,
   "id": "0bc7b77f",
   "metadata": {},
   "outputs": [
    {
     "data": {
      "text/plain": [
       "((3780, 1000), (1620, 1000), (3780,), (1620,))"
      ]
     },
     "execution_count": 16,
     "metadata": {},
     "output_type": "execute_result"
    }
   ],
   "source": [
    "from sklearn.model_selection import train_test_split\n",
    "# Split data into training and testing sets\n",
    "X_train, X_test, y_train, y_test = train_test_split(Dataset1, Labels, test_size=0.3, random_state=1)\n",
    "X_train.shape, X_test.shape, y_train.shape, y_test.shape"
   ]
  },
  {
   "cell_type": "code",
   "execution_count": 17,
   "id": "fba40112",
   "metadata": {},
   "outputs": [
    {
     "data": {
      "text/plain": [
       "((2646, 1000), (1134, 1000), (2646,), (1134,))"
      ]
     },
     "execution_count": 17,
     "metadata": {},
     "output_type": "execute_result"
    }
   ],
   "source": [
    "X_train, X_val, y_train, y_val = train_test_split(X_train, y_train, test_size=0.3, random_state=1)\n",
    "X_train.shape, X_val.shape, y_train.shape, y_val.shape"
   ]
  },
  {
   "cell_type": "code",
   "execution_count": 18,
   "id": "c4ec782b",
   "metadata": {},
   "outputs": [
    {
     "data": {
      "text/html": [
       "<style>#sk-089e0c82-2e94-4d1f-8c33-8b3e30320fa9 {color: black;background-color: white;}#sk-089e0c82-2e94-4d1f-8c33-8b3e30320fa9 pre{padding: 0;}#sk-089e0c82-2e94-4d1f-8c33-8b3e30320fa9 div.sk-toggleable {background-color: white;}#sk-089e0c82-2e94-4d1f-8c33-8b3e30320fa9 label.sk-toggleable__label {cursor: pointer;display: block;width: 100%;margin-bottom: 0;padding: 0.3em;box-sizing: border-box;text-align: center;}#sk-089e0c82-2e94-4d1f-8c33-8b3e30320fa9 label.sk-toggleable__label-arrow:before {content: \"▸\";float: left;margin-right: 0.25em;color: #696969;}#sk-089e0c82-2e94-4d1f-8c33-8b3e30320fa9 label.sk-toggleable__label-arrow:hover:before {color: black;}#sk-089e0c82-2e94-4d1f-8c33-8b3e30320fa9 div.sk-estimator:hover label.sk-toggleable__label-arrow:before {color: black;}#sk-089e0c82-2e94-4d1f-8c33-8b3e30320fa9 div.sk-toggleable__content {max-height: 0;max-width: 0;overflow: hidden;text-align: left;background-color: #f0f8ff;}#sk-089e0c82-2e94-4d1f-8c33-8b3e30320fa9 div.sk-toggleable__content pre {margin: 0.2em;color: black;border-radius: 0.25em;background-color: #f0f8ff;}#sk-089e0c82-2e94-4d1f-8c33-8b3e30320fa9 input.sk-toggleable__control:checked~div.sk-toggleable__content {max-height: 200px;max-width: 100%;overflow: auto;}#sk-089e0c82-2e94-4d1f-8c33-8b3e30320fa9 input.sk-toggleable__control:checked~label.sk-toggleable__label-arrow:before {content: \"▾\";}#sk-089e0c82-2e94-4d1f-8c33-8b3e30320fa9 div.sk-estimator input.sk-toggleable__control:checked~label.sk-toggleable__label {background-color: #d4ebff;}#sk-089e0c82-2e94-4d1f-8c33-8b3e30320fa9 div.sk-label input.sk-toggleable__control:checked~label.sk-toggleable__label {background-color: #d4ebff;}#sk-089e0c82-2e94-4d1f-8c33-8b3e30320fa9 input.sk-hidden--visually {border: 0;clip: rect(1px 1px 1px 1px);clip: rect(1px, 1px, 1px, 1px);height: 1px;margin: -1px;overflow: hidden;padding: 0;position: absolute;width: 1px;}#sk-089e0c82-2e94-4d1f-8c33-8b3e30320fa9 div.sk-estimator {font-family: monospace;background-color: #f0f8ff;border: 1px dotted black;border-radius: 0.25em;box-sizing: border-box;margin-bottom: 0.5em;}#sk-089e0c82-2e94-4d1f-8c33-8b3e30320fa9 div.sk-estimator:hover {background-color: #d4ebff;}#sk-089e0c82-2e94-4d1f-8c33-8b3e30320fa9 div.sk-parallel-item::after {content: \"\";width: 100%;border-bottom: 1px solid gray;flex-grow: 1;}#sk-089e0c82-2e94-4d1f-8c33-8b3e30320fa9 div.sk-label:hover label.sk-toggleable__label {background-color: #d4ebff;}#sk-089e0c82-2e94-4d1f-8c33-8b3e30320fa9 div.sk-serial::before {content: \"\";position: absolute;border-left: 1px solid gray;box-sizing: border-box;top: 2em;bottom: 0;left: 50%;}#sk-089e0c82-2e94-4d1f-8c33-8b3e30320fa9 div.sk-serial {display: flex;flex-direction: column;align-items: center;background-color: white;padding-right: 0.2em;padding-left: 0.2em;}#sk-089e0c82-2e94-4d1f-8c33-8b3e30320fa9 div.sk-item {z-index: 1;}#sk-089e0c82-2e94-4d1f-8c33-8b3e30320fa9 div.sk-parallel {display: flex;align-items: stretch;justify-content: center;background-color: white;}#sk-089e0c82-2e94-4d1f-8c33-8b3e30320fa9 div.sk-parallel::before {content: \"\";position: absolute;border-left: 1px solid gray;box-sizing: border-box;top: 2em;bottom: 0;left: 50%;}#sk-089e0c82-2e94-4d1f-8c33-8b3e30320fa9 div.sk-parallel-item {display: flex;flex-direction: column;position: relative;background-color: white;}#sk-089e0c82-2e94-4d1f-8c33-8b3e30320fa9 div.sk-parallel-item:first-child::after {align-self: flex-end;width: 50%;}#sk-089e0c82-2e94-4d1f-8c33-8b3e30320fa9 div.sk-parallel-item:last-child::after {align-self: flex-start;width: 50%;}#sk-089e0c82-2e94-4d1f-8c33-8b3e30320fa9 div.sk-parallel-item:only-child::after {width: 0;}#sk-089e0c82-2e94-4d1f-8c33-8b3e30320fa9 div.sk-dashed-wrapped {border: 1px dashed gray;margin: 0 0.4em 0.5em 0.4em;box-sizing: border-box;padding-bottom: 0.4em;background-color: white;position: relative;}#sk-089e0c82-2e94-4d1f-8c33-8b3e30320fa9 div.sk-label label {font-family: monospace;font-weight: bold;background-color: white;display: inline-block;line-height: 1.2em;}#sk-089e0c82-2e94-4d1f-8c33-8b3e30320fa9 div.sk-label-container {position: relative;z-index: 2;text-align: center;}#sk-089e0c82-2e94-4d1f-8c33-8b3e30320fa9 div.sk-container {/* jupyter's `normalize.less` sets `[hidden] { display: none; }` but bootstrap.min.css set `[hidden] { display: none !important; }` so we also need the `!important` here to be able to override the default hidden behavior on the sphinx rendered scikit-learn.org. See: https://github.com/scikit-learn/scikit-learn/issues/21755 */display: inline-block !important;position: relative;}#sk-089e0c82-2e94-4d1f-8c33-8b3e30320fa9 div.sk-text-repr-fallback {display: none;}</style><div id='sk-089e0c82-2e94-4d1f-8c33-8b3e30320fa9' class=\"sk-top-container\"><div class=\"sk-text-repr-fallback\"><pre>KNeighborsTimeSeriesClassifier(distance=&#x27;euclidean&#x27;, n_jobs=10)</pre><b>Please rerun this cell to show the HTML repr or trust the notebook.</b></div><div class=\"sk-container\" hidden><div class='sk-item'><div class=\"sk-estimator sk-toggleable\"><input class=\"sk-toggleable__control sk-hidden--visually\" id=UUID('8ff13990-95ea-45b8-9fca-ecffdecc922c') type=\"checkbox\" checked><label for=UUID('8ff13990-95ea-45b8-9fca-ecffdecc922c') class='sk-toggleable__label sk-toggleable__label-arrow'>KNeighborsTimeSeriesClassifier</label><div class=\"sk-toggleable__content\"><pre>KNeighborsTimeSeriesClassifier(distance=&#x27;euclidean&#x27;, n_jobs=10)</pre></div></div></div></div></div>"
      ],
      "text/plain": [
       "KNeighborsTimeSeriesClassifier(distance='euclidean', n_jobs=10)"
      ]
     },
     "execution_count": 18,
     "metadata": {},
     "output_type": "execute_result"
    }
   ],
   "source": [
    "from sktime.classification.distance_based import KNeighborsTimeSeriesClassifier\n",
    "classifier = KNeighborsTimeSeriesClassifier(distance=\"euclidean\", n_jobs=10)\n",
    "classifier.fit(X_train, y_train)"
   ]
  },
  {
   "cell_type": "code",
   "execution_count": 22,
   "id": "270ad4ab",
   "metadata": {},
   "outputs": [
    {
     "name": "stdout",
     "output_type": "stream",
     "text": [
      "Validation Accuracy:0.33\n"
     ]
    }
   ],
   "source": [
    "print(\"Validation Accuracy:{:.2f}\".format(classifier.score(X_val, y_val)))"
   ]
  },
  {
   "cell_type": "code",
   "execution_count": 24,
   "id": "d7df1b36",
   "metadata": {},
   "outputs": [
    {
     "name": "stdout",
     "output_type": "stream",
     "text": [
      "Test Accuracy:0.33\n"
     ]
    }
   ],
   "source": [
    "print(\"Test Accuracy:{:.2f}\".format(classifier.score(X_test, y_test)))"
   ]
  },
  {
   "cell_type": "markdown",
   "id": "61d8f80e",
   "metadata": {},
   "source": [
    "## Running KNN over different dimensions and ensemble the result"
   ]
  },
  {
   "cell_type": "code",
   "execution_count": 28,
   "id": "fba5d41d",
   "metadata": {},
   "outputs": [],
   "source": [
    "from sklearn import model_selection\n",
    "from sktime.classification.distance_based import KNeighborsTimeSeriesClassifier\n",
    "from mlxtend.classifier import EnsembleVoteClassifier\n",
    "\n",
    "def train_and_evaluate_classifiers(X_train, y_train, X_val, y_val, X_test, y_test, num_classifiers):\n",
    "    classifiers = []\n",
    "    labels = []\n",
    "    train_data = []\n",
    "    val_data = []\n",
    "\n",
    "    # Create individual classifiers and add them to the ensemble\n",
    "    for i in range(num_classifiers):\n",
    "        print(i)\n",
    "        clf = KNeighborsTimeSeriesClassifier(distance=\"euclidean\", n_jobs=10)\n",
    "        classifiers.append(clf)\n",
    "        labels.append(f'Classifier {i+1}')\n",
    "        train_data.append((X_train[:,:,i], y_train))\n",
    "        val_data.append((X_val[:,:,i],y_val))\n",
    "\n",
    "\n",
    "    # Train and evaluate classifiers\n",
    "    for clf, label, data , valdata in zip(classifiers, labels, train_data, val_data):\n",
    "        X_train_part, y_train_part = data\n",
    "        X_val_part , y_val_part = valdata\n",
    "        clf.fit(X_train_part, y_train_part)\n",
    "        print(\"Validation Accuracy: %0.2f [%s]\" % (clf.score(X_val_part, y_val_part), label))\n",
    "        \n",
    "    # Add ensemble classifier\n",
    "    eclf = EnsembleVoteClassifier(clfs=classifiers, voting='soft', weights=[1] * len(classifiers)) # Modified this line\n",
    "\n",
    "    # Fit the ensemble classifier with training data\n",
    "    eclf.fit(X_train, y_train)\n",
    "\n",
    "    # Calculate and print the test accuracy\n",
    "    print(\"Test Accuracy: %0.2f\" % eclf.score(X_test, y_test))"
   ]
  },
  {
   "cell_type": "code",
   "execution_count": 25,
   "id": "c203932c",
   "metadata": {},
   "outputs": [
    {
     "name": "stdout",
     "output_type": "stream",
     "text": [
      "Train/Valid/Test sizes: 2646 1134 1620\n"
     ]
    },
    {
     "data": {
      "text/plain": [
       "((2646, 1000, 3), (1134, 1000, 3), (2646,), (1134,))"
      ]
     },
     "execution_count": 25,
     "metadata": {},
     "output_type": "execute_result"
    }
   ],
   "source": [
    "from sklearn.model_selection import train_test_split\n",
    "# Split data into training and testing sets\n",
    "X_train, X_test, y_train, y_test = train_test_split(Dataset, Labels, test_size=0.3, random_state=1)\n",
    "\n",
    "X_train, X_val, y_train, y_val = train_test_split(X_train, y_train, test_size=0.3, random_state=1)\n",
    "\n",
    "print('Train/Valid/Test sizes:', y_train.shape[0], y_val.shape[0], y_test.shape[0])\n",
    "X_train.shape, X_val.shape, y_train.shape, y_val.shape"
   ]
  },
  {
   "cell_type": "code",
   "execution_count": 29,
   "id": "1547aeda",
   "metadata": {},
   "outputs": [
    {
     "name": "stdout",
     "output_type": "stream",
     "text": [
      "3\n"
     ]
    }
   ],
   "source": [
    "# Example usage\n",
    "num_classifiers = Dataset.shape[2]\n",
    "print(num_classifiers)# Set the desired number of classifiers"
   ]
  },
  {
   "cell_type": "code",
   "execution_count": 30,
   "id": "7c39d372",
   "metadata": {},
   "outputs": [
    {
     "name": "stdout",
     "output_type": "stream",
     "text": [
      "0\n",
      "1\n",
      "2\n",
      "Validation Accuracy: 0.33 [Classifier 1]\n",
      "Validation Accuracy: 0.36 [Classifier 2]\n",
      "Validation Accuracy: 0.74 [Classifier 3]\n",
      "Test Accuracy: 0.56\n"
     ]
    }
   ],
   "source": [
    "train_and_evaluate_classifiers(X_train, y_train, X_val, y_val, X_test, y_test, num_classifiers)"
   ]
  },
  {
   "cell_type": "code",
   "execution_count": 32,
   "id": "7bf9a961",
   "metadata": {},
   "outputs": [
    {
     "data": {
      "text/plain": [
       "0.4766666666666666"
      ]
     },
     "execution_count": 32,
     "metadata": {},
     "output_type": "execute_result"
    }
   ],
   "source": [
    "(0.33 + 0.36 + 0.74)/3"
   ]
  },
  {
   "cell_type": "code",
   "execution_count": 33,
   "id": "aca464c7",
   "metadata": {},
   "outputs": [
    {
     "name": "stdout",
     "output_type": "stream",
     "text": [
      "(53785, 749, 3)\n"
     ]
    }
   ],
   "source": [
    "datasets = [\n",
    "# \"Gas_sensors_home_activity\",\n",
    "\"PHM2022_Multivar\",\n",
    "\n",
    "]\n",
    "\n",
    "datasets_path = \"../datasets\"\n",
    "\n",
    "for dataset in datasets:\n",
    "    Dataset_name = dataset + \"_Dataset\"\n",
    "    Dataset = np.load(datasets_path + \"/\" + Dataset_name + \".npy\")\n",
    "    Dataset = Dataset\n",
    "    print(Dataset.shape)\n",
    "    \n",
    "    Labels_name = dataset + \"_Labels\"\n",
    "    Labels = np.load(datasets_path + \"/\"  + Labels_name + \".npy\")\n",
    "    Labels = Labels.squeeze()"
   ]
  },
  {
   "cell_type": "code",
   "execution_count": 34,
   "id": "80424e51",
   "metadata": {},
   "outputs": [
    {
     "name": "stdout",
     "output_type": "stream",
     "text": [
      "3\n"
     ]
    }
   ],
   "source": [
    "# Example usage\n",
    "num_classifiers = Dataset.shape[2]\n",
    "print(num_classifiers)# Set the desired number of classifiers"
   ]
  },
  {
   "cell_type": "code",
   "execution_count": 35,
   "id": "f65122ec",
   "metadata": {},
   "outputs": [
    {
     "name": "stdout",
     "output_type": "stream",
     "text": [
      "Train/Valid/Test sizes: 26354 11295 16136\n"
     ]
    }
   ],
   "source": [
    "from sklearn.model_selection import train_test_split\n",
    "# Split data into training and testing sets\n",
    "X_train, X_test, y_train, y_test = train_test_split(Dataset, Labels, test_size=0.3, random_state=1)\n",
    "\n",
    "X_train, X_val, y_train, y_val = train_test_split(X_train, y_train, test_size=0.3, random_state=1)\n",
    "\n",
    "print('Train/Valid/Test sizes:', y_train.shape[0], y_val.shape[0], y_test.shape[0])"
   ]
  },
  {
   "cell_type": "code",
   "execution_count": 36,
   "id": "9d858bc3",
   "metadata": {},
   "outputs": [
    {
     "name": "stdout",
     "output_type": "stream",
     "text": [
      "0\n",
      "1\n",
      "2\n",
      "Validation Accuracy: 0.94 [Classifier 1]\n",
      "Validation Accuracy: 0.90 [Classifier 2]\n",
      "Validation Accuracy: 0.91 [Classifier 3]\n",
      "Test Accuracy: 0.97\n"
     ]
    }
   ],
   "source": [
    "train_and_evaluate_classifiers(X_train, y_train, X_val, y_val, X_test, y_test, num_classifiers)"
   ]
  },
  {
   "cell_type": "code",
   "execution_count": null,
   "id": "4865a120",
   "metadata": {
    "scrolled": true
   },
   "outputs": [],
   "source": [
    "#pip install mlxtend"
   ]
  },
  {
   "cell_type": "code",
   "execution_count": null,
   "id": "1f688f00",
   "metadata": {},
   "outputs": [],
   "source": [
    "from mlxtend.classifier import EnsembleVoteClassifier\n"
   ]
  },
  {
   "cell_type": "code",
   "execution_count": null,
   "id": "09e5b76b",
   "metadata": {},
   "outputs": [],
   "source": [
    "from sklearn import model_selection\n",
    "from sktime.classification.distance_based import KNeighborsTimeSeriesClassifier\n",
    "\n",
    "\n",
    "clf1 = KNeighborsTimeSeriesClassifier(distance= \"euclidean\", n_jobs=10)\n",
    "clf2 = KNeighborsTimeSeriesClassifier(distance= \"euclidean\", n_jobs=10)\n",
    "clf3 = KNeighborsTimeSeriesClassifier(distance= \"euclidean\", n_jobs=10)\n",
    "eclf = EnsembleVoteClassifier(clfs=[clf1, clf2, clf3], weights=[1, 1, 1])\n",
    "\n",
    "labels = ['Classifier 1', 'Classifier 2', 'Classifier 3', 'Ensemble']\n",
    "\n",
    "# Split the training data into three subsets\n",
    "X_train1, X_train2, X_train3 = X_train[:,:,0], X_train[:,:,1], X_train[:,:,2]\n",
    "\n",
    "classifiers = [clf1, clf2, clf3, eclf]\n",
    "train_data = [(X_train1, y_train), (X_train2, y_train), (X_train3, y_train)]\n",
    "\n",
    "for clf, label, data in zip(classifiers, labels, train_data):\n",
    "    X_train_part, y_train_part = data\n",
    "    clf.fit(X_train_part, y_train_part)\n",
    "    print(\"Validation Accuracy: %0.2f [%s]\" % (clf.score(X_val, y_val), label))\n",
    "    \n",
    "eclf.fit(X_train, y_train)\n",
    "print(\"Test Accuracy: %0.2f\" % eclf.score(X_test, y_test))\n"
   ]
  },
  {
   "cell_type": "code",
   "execution_count": null,
   "id": "e47cdd4e",
   "metadata": {},
   "outputs": [],
   "source": [
    "from sklearn import model_selection\n",
    "from sktime.classification.distance_based import KNeighborsTimeSeriesClassifier\n",
    "\n",
    "\n",
    "clf1 = KNeighborsTimeSeriesClassifier(distance= \"euclidean\", n_jobs=10)\n",
    "clf2 = KNeighborsTimeSeriesClassifier(distance= \"euclidean\", n_jobs=10)\n",
    "clf3 = KNeighborsTimeSeriesClassifier(distance= \"euclidean\", n_jobs=10)\n",
    "eclf = EnsembleVoteClassifier(clfs=[clf1, clf2, clf3], voting='soft', weights=[1, 1, 1])\n",
    "\n",
    "labels = ['Classifier 1', 'Classifier 2', 'Classifier 3', 'Ensemble']\n",
    "\n",
    "# Split the training data into three subsets\n",
    "X_train1, X_train2, X_train3 = X_train[:,:,0], X_train[:,:,1], X_train[:,:,2]\n",
    "\n",
    "classifiers = [clf1, clf2, clf3, eclf]\n",
    "train_data = [(X_train1, y_train), (X_train2, y_train), (X_train3, y_train)]\n",
    "\n",
    "for clf, label, data in zip(classifiers, labels, train_data):\n",
    "    X_train_part, y_train_part = data\n",
    "    clf.fit(X_train_part, y_train_part)\n",
    "    print(\"Validation Accuracy: %0.2f [%s]\" % (clf.score(X_val, y_val), label))\n",
    "    \n",
    "eclf.fit(X_train, y_train)\n",
    "print(\"Test Accuracy: %0.2f\" % eclf.score(X_test, y_test))"
   ]
  },
  {
   "cell_type": "code",
   "execution_count": null,
   "id": "e5e51785",
   "metadata": {},
   "outputs": [],
   "source": [
    "from sklearn.model_selection import train_test_split\n",
    "# Split data into training and testing sets\n",
    "X_train, X_test, y_train, y_test = \\\n",
    "    train_test_split(Dataset, Labels, test_size=0.2, random_state=1)\n",
    "\n",
    "X_train, X_val, y_train, y_val = \\\n",
    "    train_test_split(X_train, y_train, test_size=0.2, random_state=1)\n",
    "\n",
    "print('Train/Valid/Test sizes:', y_train.shape[0], y_val.shape[0], y_test.shape[0])\n",
    "print(X_train.shape)\n",
    "print(Labels.shape)"
   ]
  },
  {
   "cell_type": "code",
   "execution_count": null,
   "id": "9d4016a3",
   "metadata": {},
   "outputs": [],
   "source": [
    "from sklearn import model_selection\n",
    "from sktime.classification.distance_based import KNeighborsTimeSeriesClassifier\n",
    "from mlxtend.classifier import EnsembleVoteClassifier\n",
    "\n",
    "def train_and_evaluate_classifiers(X_train, y_train, X_val, y_val, X_test, y_test, num_classifiers):\n",
    "    classifiers = []\n",
    "    labels = []\n",
    "    train_data = []\n",
    "\n",
    "    # Create individual classifiers and add them to the ensemble\n",
    "    for i in range(num_classifiers):\n",
    "        print(i)\n",
    "        clf = KNeighborsTimeSeriesClassifier(distance=\"euclidean\", n_jobs=10)\n",
    "        classifiers.append(clf)\n",
    "        labels.append(f'Classifier {i+1}')\n",
    "        train_data.append((X_train[:,:,i], y_train))\n",
    "\n",
    "    # Add ensemble classifier\n",
    "    eclf = EnsembleVoteClassifier(clfs=classifiers, voting='soft', weights=[1] * num_classifiers)\n",
    "    classifiers.append(eclf)\n",
    "    labels.append('Ensemble')\n",
    "    train_data.append((X_train, y_train))\n",
    "\n",
    "    # Train and evaluate classifiers\n",
    "    for clf, label, data in zip(classifiers, labels, train_data):\n",
    "        X_train_part, y_train_part = data\n",
    "        clf.fit(X_train_part, y_train_part)\n",
    "        print(\"Validation Accuracy: %0.2f [%s]\" % (clf.score(X_val, y_val), label))\n",
    "\n",
    "    # Fit the ensemble classifier with training data\n",
    "    eclf.fit(X_train, y_train)\n",
    "\n",
    "    # Calculate and print the test accuracy\n",
    "    print(\"Test Accuracy: %0.2f\" % eclf.score(X_test, y_test))\n",
    "\n",
    "\n"
   ]
  },
  {
   "cell_type": "code",
   "execution_count": null,
   "id": "609b6dce",
   "metadata": {},
   "outputs": [],
   "source": [
    "def train_and_evaluate_classifiers(X_train, y_train, X_val, y_val, X_test, y_test, num_classifiers):\n",
    "    classifiers = []\n",
    "    labels = []\n",
    "    train_data = []\n",
    "\n",
    "    # Create individual classifiers and add them to the ensemble\n",
    "    for i in range(num_classifiers):\n",
    "        print(i)\n",
    "        clf = KNeighborsTimeSeriesClassifier(distance=\"euclidean\", n_jobs=10)\n",
    "        classifiers.append(clf)\n",
    "        labels.append(f'Classifier {i+1}')\n",
    "        train_data.append((X_train[:,:,i], y_train))\n",
    "\n",
    "    # Add ensemble classifier\n",
    "    eclf = EnsembleVoteClassifier(clfs=classifiers, voting='soft', weights=[1] * len(classifiers)) # Modified this line\n",
    "    classifiers.append(eclf)\n",
    "    labels.append('Ensemble')\n",
    "    train_data.append((X_train, y_train))\n",
    "\n",
    "    # Train and evaluate classifiers\n",
    "    for clf, label, data in zip(classifiers, labels, train_data):\n",
    "        X_train_part, y_train_part = data\n",
    "        clf.fit(X_train_part, y_train_part)\n",
    "        print(\"Validation Accuracy: %0.2f [%s]\" % (clf.score(X_val, y_val), label))\n",
    "\n",
    "    # Fit the ensemble classifier with training data\n",
    "    eclf.fit(X_train, y_train)\n",
    "\n",
    "    # Calculate and print the test accuracy\n",
    "    print(\"Test Accuracy: %0.2f\" % eclf.score(X_test, y_test))"
   ]
  },
  {
   "cell_type": "code",
   "execution_count": null,
   "id": "7805b5f6",
   "metadata": {},
   "outputs": [],
   "source": [
    "# Example usage\n",
    "num_classifiers = Dataset.shape[2]\n",
    "print(num_classifiers)# Set the desired number of classifiers"
   ]
  },
  {
   "cell_type": "code",
   "execution_count": null,
   "id": "1e90d035",
   "metadata": {},
   "outputs": [],
   "source": [
    "train_and_evaluate_classifiers(X_train, y_train, X_val, y_val, X_test, y_test, num_classifiers)"
   ]
  },
  {
   "cell_type": "code",
   "execution_count": null,
   "id": "4c1440f7",
   "metadata": {},
   "outputs": [],
   "source": [
    "print(f\"\\n The dataset shape is:{Dataset.shape}\")\n",
    "N=Dataset.shape[0]\n",
    "print(f\"\\n The number of data samples (N) is:{N}\")\n",
    "\n",
    "T=Dataset.shape[1]\n",
    "print(f\"\\n The number of TS length (T) is:{T}\")\n",
    "\n",
    "M=Dataset.shape[2]\n",
    "print(f\"\\n The number of TS dimention (M) is:{M}\")"
   ]
  },
  {
   "cell_type": "code",
   "execution_count": null,
   "id": "66a263e7",
   "metadata": {
    "scrolled": true
   },
   "outputs": [],
   "source": [
    "# split the multivariate time-series into separate univariate time-series, one for each variable\n",
    "X_univariate = np.split(Dataset, M, axis=2)\n",
    "len(X_univariate)"
   ]
  },
  {
   "cell_type": "code",
   "execution_count": null,
   "id": "e5aa3e66",
   "metadata": {},
   "outputs": [],
   "source": [
    "X_univariate[0]"
   ]
  },
  {
   "cell_type": "code",
   "execution_count": null,
   "id": "69d49708",
   "metadata": {},
   "outputs": [],
   "source": [
    "Dataset[:,:,0].shape"
   ]
  },
  {
   "cell_type": "code",
   "execution_count": null,
   "id": "dc58e7fc",
   "metadata": {},
   "outputs": [],
   "source": [
    "# list to store predicted class labels for each univariate time-series\n",
    "y_pred_univariate = []\n",
    "\n",
    "# perform KNN classification on each univariate time-series independently\n",
    "for X_var in X_univariate:\n",
    "    # train-test split\n",
    "    X_train, X_test, y_train, y_test = train_test_split(X_var.reshape(N, T), Labels.squeeze(), test_size=0.2, shuffle=True)\n",
    "    print(X_train.shape)\n",
    "    print(X_test.shape)\n",
    "    print(y_train.shape)\n",
    "    print(y_test.shape)\n",
    "    \n",
    "    # KNN classification\n",
    "    from sktime.classification.distance_based import KNeighborsTimeSeriesClassifier\n",
    "    classifier = KNeighborsTimeSeriesClassifier(distance= \"euclidean\", n_jobs=10)\n",
    "    classifier.fit(X_train, y_train)\n",
    "    \n",
    "        \n",
    "    # predict class labels\n",
    "    y_pred_var = classifier.predict(X_test)\n",
    "    accuracy = accuracy_score(y_test, y_pred_var)\n",
    "    print(f\"accuracy for dimension:{accuracy}\")\n",
    "    y_pred_univariate.append(y_pred_var)\n",
    "    print(len(y_pred_univariate))\n",
    "    \n"
   ]
  },
  {
   "cell_type": "code",
   "execution_count": null,
   "id": "59534235",
   "metadata": {},
   "outputs": [],
   "source": [
    "np.unique(Labels)"
   ]
  },
  {
   "cell_type": "code",
   "execution_count": null,
   "id": "94349eaf",
   "metadata": {
    "scrolled": true
   },
   "outputs": [],
   "source": [
    "y_pred_univariate"
   ]
  },
  {
   "cell_type": "code",
   "execution_count": null,
   "id": "077db891",
   "metadata": {},
   "outputs": [],
   "source": [
    "y_pred_univariate[2][0]"
   ]
  },
  {
   "cell_type": "code",
   "execution_count": null,
   "id": "a8d12eef",
   "metadata": {},
   "outputs": [],
   "source": [
    "# ensemble the results by taking the majority vote for each time step\n",
    "#y_pred_ensemble = np.apply_along_axis(lambda x: np.argmax(np.bincount(x)), axis=0, arr=y_pred_univariate)\n",
    "y_pred_ensemble = np.apply_along_axis(lambda x: np.argmax(np.bincount(np.round(x).astype(int))), axis=0, arr=y_pred_univariate)\n"
   ]
  },
  {
   "cell_type": "code",
   "execution_count": null,
   "id": "c38a57fc",
   "metadata": {},
   "outputs": [],
   "source": [
    "y_pred_ensemble"
   ]
  },
  {
   "cell_type": "code",
   "execution_count": null,
   "id": "b5bea78d",
   "metadata": {},
   "outputs": [],
   "source": [
    "# compute the accuracy of the final classification\n",
    "accuracy = accuracy_score(y_test, y_pred_ensemble)\n",
    "\n",
    "f1 = f1_score(y_test, y_pred_ensemble, average='weighted')\n",
    "print(f1)\n",
    "\n",
    "print(\"Accuracy of KNN classification on multivariate time-series:\", accuracy)\n"
   ]
  },
  {
   "cell_type": "code",
   "execution_count": 38,
   "id": "9ee8d889",
   "metadata": {},
   "outputs": [
    {
     "data": {
      "text/plain": [
       "time.struct_time(tm_year=2023, tm_mon=5, tm_mday=6, tm_hour=6, tm_min=46, tm_sec=35, tm_wday=5, tm_yday=126, tm_isdst=1)"
      ]
     },
     "execution_count": 38,
     "metadata": {},
     "output_type": "execute_result"
    }
   ],
   "source": [
    "import time\n",
    "time.localtime(1683369995.3284798)"
   ]
  },
  {
   "cell_type": "code",
   "execution_count": 39,
   "id": "eb70508d",
   "metadata": {},
   "outputs": [
    {
     "data": {
      "text/plain": [
       "3.7222975000000003"
      ]
     },
     "execution_count": 39,
     "metadata": {},
     "output_type": "execute_result"
    }
   ],
   "source": [
    "13400.2710/3600"
   ]
  },
  {
   "cell_type": "code",
   "execution_count": null,
   "id": "5335edfb",
   "metadata": {},
   "outputs": [],
   "source": []
  }
 ],
 "metadata": {
  "kernelspec": {
   "display_name": "Python 3 (ipykernel)",
   "language": "python",
   "name": "python3"
  },
  "language_info": {
   "codemirror_mode": {
    "name": "ipython",
    "version": 3
   },
   "file_extension": ".py",
   "mimetype": "text/x-python",
   "name": "python",
   "nbconvert_exporter": "python",
   "pygments_lexer": "ipython3",
   "version": "3.10.6"
  }
 },
 "nbformat": 4,
 "nbformat_minor": 5
}
