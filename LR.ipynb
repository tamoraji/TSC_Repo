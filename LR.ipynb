{
 "cells": [
  {
   "cell_type": "code",
   "execution_count": 1,
   "metadata": {},
   "outputs": [],
   "source": [
    "from sklearn.model_selection import cross_val_predict, KFold\n",
    "import sklearn\n",
    "import numpy as np\n",
    "import os\n",
    "import sys"
   ]
  },
  {
   "cell_type": "code",
   "execution_count": 5,
   "metadata": {},
   "outputs": [
    {
     "name": "stdout",
     "output_type": "stream",
     "text": [
      "We have 22 Datasets for evaluation\n",
      "(2560, 8192, 1)\n",
      "(53785, 749, 3)\n",
      "(53785, 749, 1)\n",
      "(53785, 749, 1)\n",
      "(53785, 749, 1)\n",
      "(128, 112, 18)\n",
      "(1898, 2000, 1)\n",
      "(1898, 4000, 1)\n",
      "(192477, 3000, 1)\n",
      "(185520, 200, 1)\n",
      "(192477, 3000, 3)\n",
      "(185520, 200, 5)\n",
      "(2205, 600, 17)\n",
      "(2205, 6000, 7)\n",
      "(99, 15393, 10)\n",
      "(600, 60, 1)\n",
      "(7200, 1000, 1)\n",
      "(6240, 1000, 3)\n",
      "(5400, 1000, 1)\n",
      "(5400, 1000, 3)\n",
      "(10681, 2000, 1)\n",
      "(10681, 2000, 2)\n"
     ]
    }
   ],
   "source": [
    "# define a list of datasets\n",
    "datasets = [\n",
    "\"BEARING_Univar\",\n",
    "\"PHM2022_Multivar\",\n",
    "\"PHM2022_Univar_PIN\",\n",
    "\"PHM2022_Univar_PO\",\n",
    "\"PHM2022_Univar_PDIN\",\n",
    "\"ETCHING_Multivar\",\n",
    "\"MFPT_48KHZ_Univar\",\n",
    "\"MFPT_96KHZ_Univar\",\n",
    "\"PADERBORN_64KHZ_Univar\",\n",
    "\"PADERBORN_4KHZ_Univar\",\n",
    "\"PADERBORN_64KHZ_Multivar\",\n",
    "\"PADERBORN_4KHZ_Multivar\",\n",
    "\"Hydraulic_systems_10HZ_Multivar\",\n",
    "\"Hydraulic_systems_100HZ_Multivar\",\n",
    "\"Gas_sensors_home_activity\",\n",
    "\"Control_charts\",\n",
    "\"CWRU_12k_DE_univar\",\n",
    "\"CWRU_12k_DE_multivar\",\n",
    "\"CWRU_12k_FE_univar\",\n",
    "\"CWRU_12k_FE_multivar\",\n",
    "\"CWRU_48k_DE_univar\",\n",
    "\"CWRU_48k_DE_multivar\"\n",
    "]\n",
    "print(\"We have {} Datasets for evaluation\".format(len(datasets)))\n",
    "\n",
    "#datasets = [\"PHM2022_Multivar\", \"PHM2022_Univar_PDIN\"]\n",
    "\n",
    "datasets_path = \"../datasets\"\n",
    "\n",
    "for dataset in datasets:\n",
    "    Dataset_name = dataset + \"_Dataset\"\n",
    "    Dataset = np.load(datasets_path + \"/\" + Dataset_name + \".npy\")\n",
    "    print(Dataset.shape)\n",
    "    \n",
    "\n",
    "    Labels_name = dataset + \"_Labels\"\n",
    "    Labels = np.load(datasets_path + \"/\"  + Labels_name + \".npy\")\n"
   ]
  },
  {
   "cell_type": "code",
   "execution_count": null,
   "metadata": {
    "scrolled": false
   },
   "outputs": [
    {
     "name": "stdout",
     "output_type": "stream",
     "text": [
      "\n",
      " The dataset shape is:(2560, 8192, 1)\n",
      "\n",
      " The number of data samples (N) is:2560\n",
      "\n",
      " The number of TS length (T) is:8192\n",
      "\n",
      " The number of TS dimention (M) is:1\n",
      "0.177734375\n",
      "0.17397789519420764\n",
      "[[19 13  4 11  7  8  4  5]\n",
      " [11 12  7  7  7  7  3  7]\n",
      " [ 5 13 14  7  4  4  3  5]\n",
      " [10 12  9 11  5  5  2  1]\n",
      " [ 8 13  9 10 15  3  0 12]\n",
      " [13 14  5 11  8  9  4  5]\n",
      " [ 7 14  7 11 11  6  5  7]\n",
      " [10 10  6 13  7  5  6  6]]\n",
      "              precision    recall  f1-score   support\n",
      "\n",
      "         1.0       0.23      0.27      0.25        71\n",
      "         2.0       0.12      0.20      0.15        61\n",
      "         3.0       0.23      0.25      0.24        55\n",
      "         4.0       0.14      0.20      0.16        55\n",
      "         5.0       0.23      0.21      0.22        70\n",
      "         6.0       0.19      0.13      0.16        69\n",
      "         7.0       0.19      0.07      0.11        68\n",
      "         8.0       0.12      0.10      0.11        63\n",
      "\n",
      "    accuracy                           0.18       512\n",
      "   macro avg       0.18      0.18      0.17       512\n",
      "weighted avg       0.18      0.18      0.17       512\n",
      "\n",
      " fold 1 is Finished!\n"
     ]
    }
   ],
   "source": [
    "# change this directory for your machine\n",
    "root_dir = './'\n",
    "\n",
    "algorirhms_path = \"./classifiers\"\n",
    "\n",
    "from classifiers import LR_module\n",
    "\n",
    "# define the number of folds\n",
    "n_folds = 5\n",
    "\n",
    "# perform cross-validation for each dataset and algorithm combination\n",
    "for dataset in datasets:\n",
    "    Dataset_name = dataset + \"_Dataset\"\n",
    "    Dataset = np.load(datasets_path + \"/\" + Dataset_name + \".npy\")\n",
    "    \n",
    "\n",
    "    Labels_name = dataset + \"_Labels\"\n",
    "    Labels = np.load(datasets_path + \"/\"  + Labels_name + \".npy\")\n",
    "\n",
    "    # Create a folder for results\n",
    "    results_path = root_dir + \"Results/\" + Dataset_name\n",
    "    if os.path.exists(results_path):\n",
    "        pass\n",
    "    else:\n",
    "        try:\n",
    "            os.makedirs(results_path)\n",
    "        except:\n",
    "            # in case another machine created the path meanwhile !:(\n",
    "            pass\n",
    "\n",
    "\n",
    "\n",
    "    #Run The Logistic Regression (LR) module\n",
    "    LR_module.LR(results_path, Dataset_name, Dataset, Labels, nb_folds= n_folds, C=10)\n",
    "\n",
    "\n",
    "\n",
    "\n"
   ]
  },
  {
   "cell_type": "code",
   "execution_count": null,
   "metadata": {},
   "outputs": [],
   "source": []
  }
 ],
 "metadata": {
  "kernelspec": {
   "display_name": "Python 3 (ipykernel)",
   "language": "python",
   "name": "python3"
  },
  "language_info": {
   "codemirror_mode": {
    "name": "ipython",
    "version": 3
   },
   "file_extension": ".py",
   "mimetype": "text/x-python",
   "name": "python",
   "nbconvert_exporter": "python",
   "pygments_lexer": "ipython3",
   "version": "3.9.6"
  },
  "vscode": {
   "interpreter": {
    "hash": "aee8b7b246df8f9039afb4144a1f6fd8d2ca17a180786b69acc140d282b71a49"
   }
  }
 },
 "nbformat": 4,
 "nbformat_minor": 2
}
