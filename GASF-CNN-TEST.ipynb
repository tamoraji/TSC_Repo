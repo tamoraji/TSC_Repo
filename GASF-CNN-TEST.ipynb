{
 "cells": [
  {
   "cell_type": "code",
   "execution_count": null,
   "id": "3d8b956a",
   "metadata": {},
   "outputs": [],
   "source": []
  },
  {
   "cell_type": "code",
   "execution_count": 1,
   "id": "87f314c2",
   "metadata": {},
   "outputs": [],
   "source": [
    "import numpy as np\n",
    "from sklearn.preprocessing import OneHotEncoder"
   ]
  },
  {
   "cell_type": "code",
   "execution_count": 2,
   "id": "9abc1103",
   "metadata": {},
   "outputs": [
    {
     "name": "stdout",
     "output_type": "stream",
     "text": [
      "(53785, 749, 3)\n",
      "(53785,)\n"
     ]
    }
   ],
   "source": [
    "datasets = [\n",
    "# \"BEARING_Univar\",\n",
    "# \"Control_charts\",\n",
    "\"PHM2022_Multivar\", #Starting to work on PHM2022_Multivar_Dataset at 2023-06-14 09:18:21  \n",
    "\n",
    "]\n",
    "\n",
    "datasets_path = \"../datasets\"\n",
    "\n",
    "for dataset in datasets:\n",
    "    Dataset_name = dataset + \"_Dataset\"\n",
    "    Dataset = np.load(datasets_path + \"/\" + Dataset_name + \".npy\")\n",
    "    Dataset = Dataset\n",
    "    print(Dataset.shape)\n",
    "    \n",
    "    Labels_name = dataset + \"_Labels\"\n",
    "    Labels = np.load(datasets_path + \"/\"  + Labels_name + \".npy\")\n",
    "    Labels = Labels.squeeze()\n",
    "    print(Labels.shape)"
   ]
  },
  {
   "cell_type": "code",
   "execution_count": 3,
   "id": "858ef3ca",
   "metadata": {},
   "outputs": [],
   "source": [
    "from dl4tsc.classifiers.GASF import GASF_enc"
   ]
  },
  {
   "cell_type": "code",
   "execution_count": 4,
   "id": "220028ca",
   "metadata": {},
   "outputs": [
    {
     "data": {
      "text/plain": [
       "(53785, 128, 128, 3)"
      ]
     },
     "execution_count": 4,
     "metadata": {},
     "output_type": "execute_result"
    }
   ],
   "source": [
    "P=min(Dataset.shape[1], 128)\n",
    "Dataset = GASF_enc(Dataset, P)\n",
    "Dataset.shape"
   ]
  },
  {
   "cell_type": "code",
   "execution_count": null,
   "id": "bc21afe8",
   "metadata": {},
   "outputs": [],
   "source": [
    "# transform the labels from integers to one hot vectors\n",
    "enc = OneHotEncoder(categories='auto')\n",
    "Labels = enc.fit_transform(Labels.reshape(-1, 1)).toarray()\n",
    "Labels.shape"
   ]
  },
  {
   "cell_type": "code",
   "execution_count": null,
   "id": "5e122903",
   "metadata": {},
   "outputs": [],
   "source": [
    "N = Dataset.shape[0]\n",
    "T = Dataset.shape[1]\n",
    "M = Dataset.shape[2]\n",
    "P = 60 #Length of the approximated representation\n",
    "\n",
    "Dataset_PAA = np.zeros((N,P, M))\n",
    "from pyts.approximation import PiecewiseAggregateApproximation\n",
    "# PAA transformation\n",
    "paa = PiecewiseAggregateApproximation(window_size=None, output_size=P)\n",
    "for i in range(M):\n",
    "    X_paa = paa.transform(Dataset[:,:,i])\n",
    "    Dataset_PAA[:,:,i] = X_paa"
   ]
  },
  {
   "cell_type": "code",
   "execution_count": null,
   "id": "d1a9e542",
   "metadata": {},
   "outputs": [],
   "source": [
    "import matplotlib.pyplot as plt\n",
    "plt.plot(Dataset_PAA[0,:,0])"
   ]
  },
  {
   "cell_type": "code",
   "execution_count": null,
   "id": "579fa7a5",
   "metadata": {},
   "outputs": [],
   "source": [
    "plt.plot(Dataset[0,:,0])"
   ]
  },
  {
   "cell_type": "code",
   "execution_count": null,
   "id": "c20854e8",
   "metadata": {},
   "outputs": [],
   "source": [
    "# Dataset = Dataset[:,:,0]\n",
    "# Dataset.shape"
   ]
  },
  {
   "cell_type": "code",
   "execution_count": null,
   "id": "6c65b2e7",
   "metadata": {},
   "outputs": [],
   "source": [
    "Dataset_PAA.shape"
   ]
  },
  {
   "cell_type": "code",
   "execution_count": null,
   "id": "307d2253",
   "metadata": {},
   "outputs": [],
   "source": [
    "np.unique(Labels)"
   ]
  },
  {
   "cell_type": "code",
   "execution_count": null,
   "id": "ecda3c34",
   "metadata": {},
   "outputs": [],
   "source": [
    "# Recurrence plot transformation\n",
    "from pyts.image import GramianAngularField\n",
    "transformer = GramianAngularField()\n",
    "Dataset_PAA_GAF = np.zeros((N,P,P,M))\n",
    "\n",
    "for i in range(M):\n",
    "    transformer.fit(Dataset_PAA[:,:,i])\n",
    "    X_paa_gaf = transformer.transform(Dataset_PAA[:,:,i])\n",
    "    Dataset_PAA_GAF[:,:,:,i] = X_paa_gaf\n"
   ]
  },
  {
   "cell_type": "code",
   "execution_count": null,
   "id": "9318198d",
   "metadata": {},
   "outputs": [],
   "source": [
    "Dataset_PAA_GAF.shape"
   ]
  },
  {
   "cell_type": "code",
   "execution_count": null,
   "id": "eb410678",
   "metadata": {},
   "outputs": [],
   "source": [
    "del Dataset_PAA"
   ]
  },
  {
   "cell_type": "code",
   "execution_count": null,
   "id": "e57aed42",
   "metadata": {},
   "outputs": [],
   "source": [
    "del Dataset"
   ]
  },
  {
   "cell_type": "code",
   "execution_count": null,
   "id": "bc21d7b3",
   "metadata": {},
   "outputs": [],
   "source": [
    "import gc\n",
    "\n",
    "# Perform your code and create some objects\n",
    "\n",
    "# Call the garbage collector\n",
    "gc.collect()"
   ]
  },
  {
   "cell_type": "code",
   "execution_count": null,
   "id": "876914c0",
   "metadata": {},
   "outputs": [],
   "source": [
    "from sklearn.model_selection import train_test_split\n",
    "# Split data into training and testing sets\n",
    "X_train, X_test, y_train, y_test = train_test_split(Dataset_PAA_GAF, Labels, test_size=0.2, random_state=42)\n",
    "X_train.shape, X_test.shape, y_train.shape, y_test.shape"
   ]
  },
  {
   "cell_type": "code",
   "execution_count": null,
   "id": "72bdefdd",
   "metadata": {},
   "outputs": [],
   "source": [
    "import matplotlib.pyplot as plt\n",
    "\n",
    "# Define the label you want to add to the plot\n",
    "label_text = 'Label: ' + str(y_train[6])\n",
    "\n",
    "# Show the results for the first time series\n",
    "fig, ax = plt.subplots(figsize=(5, 5))\n",
    "ax.imshow(X_train[6,:,:,0], cmap='hsv', origin='lower')\n",
    "ax.set_title('GAF Plot', fontsize=18)\n",
    "ax.text(0, 1, label_text, transform=ax.transAxes, fontsize=12, va='top', ha='left')\n",
    "plt.tight_layout()\n",
    "plt.show()"
   ]
  },
  {
   "cell_type": "code",
   "execution_count": null,
   "id": "878be071",
   "metadata": {},
   "outputs": [],
   "source": [
    "import tensorflow as tf\n",
    "from tensorflow.keras import layers\n",
    "import tensorflow.keras as keras\n",
    "\n",
    "\n",
    "input_shape = X_train.shape[1:]\n",
    "nb_classes = len(np.unique(Labels, axis=0))\n",
    "\n",
    "input_layer = keras.layers.Input(input_shape)\n",
    "\n",
    "# Convolutional layers\n",
    "conv1 = keras.layers.Conv2D(64, (3, 3), activation='relu')(input_layer)\n",
    "pooling1 = keras.layers.MaxPooling2D((2, 2))(conv1)\n",
    "\n",
    "conv2 = keras.layers.Conv2D(64, (3, 3), activation='relu')(pooling1)\n",
    "pooling2 = keras.layers.MaxPooling2D((2, 2))(conv2)\n",
    "\n",
    "# Flatten the output\n",
    "flatten = keras.layers.Flatten()(pooling2)\n",
    "\n",
    "# Fully connected layers\n",
    "dense1 = keras.layers.Dense(128, activation='relu')(flatten)\n",
    "dense2 = keras.layers.Dense(64, activation='relu')(dense1)\n",
    "\n",
    "output_layer = keras.layers.Dense(nb_classes, activation='softmax')(dense2)\n",
    "\n",
    "model = keras.models.Model(inputs=input_layer, outputs=output_layer)\n",
    "\n",
    "model.summary()"
   ]
  },
  {
   "cell_type": "code",
   "execution_count": null,
   "id": "780aaa8f",
   "metadata": {},
   "outputs": [],
   "source": [
    "# Compile the model\n",
    "model.compile(optimizer='adam',\n",
    "              loss='categorical_crossentropy',\n",
    "              metrics=['accuracy'])"
   ]
  },
  {
   "cell_type": "code",
   "execution_count": null,
   "id": "fc9c58e8",
   "metadata": {
    "scrolled": false
   },
   "outputs": [],
   "source": [
    "model.fit(X_train, y_train, epochs=30,batch_size=32 ,validation_data=(X_test, y_test))\n"
   ]
  },
  {
   "cell_type": "code",
   "execution_count": null,
   "id": "7468e36b",
   "metadata": {},
   "outputs": [],
   "source": []
  }
 ],
 "metadata": {
  "kernelspec": {
   "display_name": "Python 3.9 (DL)",
   "language": "python",
   "name": "dl"
  },
  "language_info": {
   "codemirror_mode": {
    "name": "ipython",
    "version": 3
   },
   "file_extension": ".py",
   "mimetype": "text/x-python",
   "name": "python",
   "nbconvert_exporter": "python",
   "pygments_lexer": "ipython3",
   "version": "3.9.16"
  }
 },
 "nbformat": 4,
 "nbformat_minor": 5
}
